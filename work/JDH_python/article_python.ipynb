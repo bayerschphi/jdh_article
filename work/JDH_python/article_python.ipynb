{
 "cells": [
  {
   "cell_type": "code",
   "execution_count": 3,
   "metadata": {
    "editable": true,
    "slideshow": {
     "slide_type": ""
    },
    "tags": []
   },
   "outputs": [
    {
     "name": "stdout",
     "output_type": "stream",
     "text": [
      "/bin/bash: -c: line 1: syntax error near unexpected token `('\n",
      "/bin/bash: -c: line 1: `pip install -r os.path.join(ohtm_pipeline/, requirements.txt)'\n",
      "Processing ./ohtm_pipeline\n",
      "  Preparing metadata (setup.py) ... \u001b[?25ldone\n",
      "\u001b[?25hBuilding wheels for collected packages: Oral-History-Topic-Modeling-Pipeline\n",
      "  Building wheel for Oral-History-Topic-Modeling-Pipeline (setup.py) ... \u001b[?25ldone\n",
      "\u001b[?25h  Created wheel for Oral-History-Topic-Modeling-Pipeline: filename=Oral_History_Topic_Modeling_Pipeline-0.8.0-py3-none-any.whl size=270179 sha256=b5decfd51481497c3d2f5a22530bd4054f3b58ab10d897fb401385e471471270\n",
      "  Stored in directory: /tmp/pip-ephem-wheel-cache-wkei9np6/wheels/04/d0/78/8c3f9ee159a9e92efe18bbbb6220ab11720dbb7f324d0abd6c\n",
      "Successfully built Oral-History-Topic-Modeling-Pipeline\n",
      "Installing collected packages: Oral-History-Topic-Modeling-Pipeline\n",
      "  Attempting uninstall: Oral-History-Topic-Modeling-Pipeline\n",
      "    Found existing installation: Oral-History-Topic-Modeling-Pipeline 0.8.0\n",
      "    Uninstalling Oral-History-Topic-Modeling-Pipeline-0.8.0:\n",
      "      Successfully uninstalled Oral-History-Topic-Modeling-Pipeline-0.8.0\n",
      "Successfully installed Oral-History-Topic-Modeling-Pipeline-0.8.0\n"
     ]
    }
   ],
   "source": [
    "!pip install -r ohtm_pipeline/requirements.txt\n",
    "!pip install /work/JDH_python/ohtm_pipeline"
   ]
  },
  {
   "cell_type": "markdown",
   "metadata": {
    "editable": true,
    "slideshow": {
     "slide_type": ""
    },
    "tags": [
     "title"
    ]
   },
   "source": [
    "# OHTM-Pipeline"
   ]
  },
  {
   "cell_type": "markdown",
   "metadata": {
    "tags": [
     "contributor"
    ]
   },
   "source": [
    " ### Philipp  Bayerschmidt [![orcid](https://orcid.org/sites/default/files/images/orcid_16x16.png)](https://orcid.org/0009-0002-2743-2455) \n",
    "Institution"
   ]
  },
  {
   "cell_type": "markdown",
   "metadata": {
    "tags": [
     "copyright"
    ]
   },
   "source": [
    "[![cc-by](https://licensebuttons.net/l/by/4.0/88x31.png)](https://creativecommons.org/licenses/by/4.0/) \n",
    "©<AUTHOR or ORGANIZATION / FUNDER>. Published by De Gruyter in cooperation with the University of Luxembourg Centre for Contemporary and Digital History. This is an Open Access article distributed under the terms of the [Creative Commons Attribution License CC-BY](https://creativecommons.org/licenses/by/4.0/)\n"
   ]
  },
  {
   "cell_type": "markdown",
   "metadata": {
    "tags": [
     "copyright"
    ]
   },
   "source": [
    "[![cc-by-nc-nd](https://licensebuttons.net/l/by-nc-nd/4.0/88x31.png)](https://creativecommons.org/licenses/by-nc-nd/4.0/) \n",
    "©<AUTHOR or ORGANIZATION / FUNDER>. Published by De Gruyter in cooperation with the University of Luxembourg Centre for Contemporary and Digital History. This is an Open Access article distributed under the terms of the [Creative Commons Attribution License CC-BY-NC-ND](https://creativecommons.org/licenses/by-nc-nd/4.0/)\n"
   ]
  },
  {
   "cell_type": "code",
   "execution_count": 1,
   "metadata": {
    "editable": true,
    "slideshow": {
     "slide_type": ""
    },
    "tags": [
     "cover"
    ]
   },
   "outputs": [
    {
     "data": {
      "image/png": "[encoded data removed]",
      "text/plain": [
       "<IPython.core.display.Image object>"
      ]
     },
     "metadata": {},
     "output_type": "display_data"
    }
   ],
   "source": [
    "from IPython.display import Image, display\n",
    "\n",
    "display(Image(\"./media/placeholder.png\"))"
   ]
  },
  {
   "cell_type": "markdown",
   "metadata": {
    "tags": [
     "disclaimer"
    ]
   },
   "source": [
    " (optional) This article was orginally published (...)"
   ]
  },
  {
   "cell_type": "markdown",
   "metadata": {
    "editable": true,
    "slideshow": {
     "slide_type": ""
    },
    "tags": [
     "keywords"
    ]
   },
   "source": [
    "FirstKeyword, SecondKeyword, AlwaysSeparatedByAComma"
   ]
  },
  {
   "cell_type": "markdown",
   "metadata": {
    "editable": true,
    "slideshow": {
     "slide_type": ""
    },
    "tags": [
     "abstract"
    ]
   },
   "source": [
    "This is an abstract (...)"
   ]
  },
  {
   "cell_type": "markdown",
   "metadata": {},
   "source": [
    "## Introduction"
   ]
  },
  {
   "cell_type": "markdown",
   "metadata": {
    "editable": true,
    "slideshow": {
     "slide_type": ""
    },
    "tags": []
   },
   "source": [
    "This is the first paragrah of running text with a citation example "
   ]
  },
  {
   "cell_type": "code",
   "execution_count": null,
   "metadata": {
    "editable": true,
    "slideshow": {
     "slide_type": ""
    },
    "tags": []
   },
   "outputs": [],
   "source": []
  },
  {
   "cell_type": "markdown",
   "metadata": {
    "editable": true,
    "slideshow": {
     "slide_type": ""
    },
    "tags": [
     "hermeneutics"
    ]
   },
   "source": [
    "This is a hermeneutic paragraph"
   ]
  },
  {
   "cell_type": "markdown",
   "metadata": {
    "editable": true,
    "jdh": {
     "module": "object",
     "object": {
      "source": [
       "table 1: label table 1"
      ]
     }
    },
    "slideshow": {
     "slide_type": ""
    },
    "tags": [
     "table-1"
    ]
   },
   "source": [
    "Editor|1641|1798|1916\n",
    "---|---|---|---\n",
    "Senan|0.55|0.4|0.3\n",
    "Henry|0.71|0.5|0.63"
   ]
  },
  {
   "cell_type": "markdown",
   "metadata": {
    "tags": [
     "hidden"
    ]
   },
   "source": []
  },
  {
   "cell_type": "code",
   "execution_count": 2,
   "metadata": {
    "editable": true,
    "slideshow": {
     "slide_type": ""
    },
    "tags": []
   },
   "outputs": [
    {
     "data": {
      "text/plain": [
       "'3.11.9'"
      ]
     },
     "execution_count": 2,
     "metadata": {},
     "output_type": "execute_result"
    }
   ],
   "source": [
    "# Check your Python version\n",
    "from platform import python_version\n",
    "python_version()\n",
    "\n",
    "#!python -V"
   ]
  },
  {
   "cell_type": "code",
   "execution_count": 5,
   "metadata": {
    "editable": true,
    "slideshow": {
     "slide_type": ""
    },
    "tags": []
   },
   "outputs": [],
   "source": [
    "# pandas package needs to be added to the requirements.txt 's file \n",
    "import pandas as pd\n"
   ]
  },
  {
   "cell_type": "code",
   "execution_count": 6,
   "metadata": {
    "editable": true,
    "slideshow": {
     "slide_type": ""
    },
    "tags": []
   },
   "outputs": [
    {
     "data": {
      "text/html": [
       "<div>\n",
       "<style scoped>\n",
       "    .dataframe tbody tr th:only-of-type {\n",
       "        vertical-align: middle;\n",
       "    }\n",
       "\n",
       "    .dataframe tbody tr th {\n",
       "        vertical-align: top;\n",
       "    }\n",
       "\n",
       "    .dataframe thead th {\n",
       "        text-align: right;\n",
       "    }\n",
       "</style>\n",
       "<table border=\"1\" class=\"dataframe\">\n",
       "  <thead>\n",
       "    <tr style=\"text-align: right;\">\n",
       "      <th></th>\n",
       "      <th>Name</th>\n",
       "      <th>PredominantDegree</th>\n",
       "      <th>HighestDegree</th>\n",
       "      <th>FundingModel</th>\n",
       "      <th>Region</th>\n",
       "      <th>Geography</th>\n",
       "      <th>AdmissionRate</th>\n",
       "      <th>ACTMedian</th>\n",
       "      <th>SATAverage</th>\n",
       "      <th>AverageCost</th>\n",
       "      <th>Expenditure</th>\n",
       "      <th>AverageFacultySalary</th>\n",
       "      <th>MedianDebt</th>\n",
       "      <th>AverageAgeofEntry</th>\n",
       "      <th>MedianFamilyIncome</th>\n",
       "      <th>MedianEarnings</th>\n",
       "    </tr>\n",
       "  </thead>\n",
       "  <tbody>\n",
       "    <tr>\n",
       "      <th>0</th>\n",
       "      <td>Alabama A &amp; M University</td>\n",
       "      <td>Bachelor's</td>\n",
       "      <td>Graduate</td>\n",
       "      <td>Public</td>\n",
       "      <td>Southeast</td>\n",
       "      <td>Mid-size City</td>\n",
       "      <td>0.8989</td>\n",
       "      <td>17</td>\n",
       "      <td>823</td>\n",
       "      <td>18888</td>\n",
       "      <td>7459</td>\n",
       "      <td>7079</td>\n",
       "      <td>19500.0</td>\n",
       "      <td>20.629999</td>\n",
       "      <td>29039.0</td>\n",
       "      <td>27000</td>\n",
       "    </tr>\n",
       "    <tr>\n",
       "      <th>1</th>\n",
       "      <td>University of Alabama at Birmingham</td>\n",
       "      <td>Bachelor's</td>\n",
       "      <td>Graduate</td>\n",
       "      <td>Public</td>\n",
       "      <td>Southeast</td>\n",
       "      <td>Mid-size City</td>\n",
       "      <td>0.8673</td>\n",
       "      <td>25</td>\n",
       "      <td>1146</td>\n",
       "      <td>19990</td>\n",
       "      <td>17208</td>\n",
       "      <td>10170</td>\n",
       "      <td>16250.0</td>\n",
       "      <td>22.670000</td>\n",
       "      <td>34909.0</td>\n",
       "      <td>37200</td>\n",
       "    </tr>\n",
       "    <tr>\n",
       "      <th>2</th>\n",
       "      <td>University of Alabama in Huntsville</td>\n",
       "      <td>Bachelor's</td>\n",
       "      <td>Graduate</td>\n",
       "      <td>Public</td>\n",
       "      <td>Southeast</td>\n",
       "      <td>Mid-size City</td>\n",
       "      <td>0.8062</td>\n",
       "      <td>26</td>\n",
       "      <td>1180</td>\n",
       "      <td>20306</td>\n",
       "      <td>9352</td>\n",
       "      <td>9341</td>\n",
       "      <td>16500.0</td>\n",
       "      <td>23.190001</td>\n",
       "      <td>39766.0</td>\n",
       "      <td>41500</td>\n",
       "    </tr>\n",
       "    <tr>\n",
       "      <th>3</th>\n",
       "      <td>Alabama State University</td>\n",
       "      <td>Bachelor's</td>\n",
       "      <td>Graduate</td>\n",
       "      <td>Public</td>\n",
       "      <td>Southeast</td>\n",
       "      <td>Mid-size City</td>\n",
       "      <td>0.5125</td>\n",
       "      <td>17</td>\n",
       "      <td>830</td>\n",
       "      <td>17400</td>\n",
       "      <td>7393</td>\n",
       "      <td>6557</td>\n",
       "      <td>15854.5</td>\n",
       "      <td>20.889999</td>\n",
       "      <td>24029.5</td>\n",
       "      <td>22400</td>\n",
       "    </tr>\n",
       "    <tr>\n",
       "      <th>4</th>\n",
       "      <td>The University of Alabama</td>\n",
       "      <td>Bachelor's</td>\n",
       "      <td>Graduate</td>\n",
       "      <td>Public</td>\n",
       "      <td>Southeast</td>\n",
       "      <td>Small City</td>\n",
       "      <td>0.5655</td>\n",
       "      <td>26</td>\n",
       "      <td>1171</td>\n",
       "      <td>26717</td>\n",
       "      <td>9817</td>\n",
       "      <td>9605</td>\n",
       "      <td>17750.0</td>\n",
       "      <td>20.770000</td>\n",
       "      <td>58976.0</td>\n",
       "      <td>39200</td>\n",
       "    </tr>\n",
       "    <tr>\n",
       "      <th>...</th>\n",
       "      <td>...</td>\n",
       "      <td>...</td>\n",
       "      <td>...</td>\n",
       "      <td>...</td>\n",
       "      <td>...</td>\n",
       "      <td>...</td>\n",
       "      <td>...</td>\n",
       "      <td>...</td>\n",
       "      <td>...</td>\n",
       "      <td>...</td>\n",
       "      <td>...</td>\n",
       "      <td>...</td>\n",
       "      <td>...</td>\n",
       "      <td>...</td>\n",
       "      <td>...</td>\n",
       "      <td>...</td>\n",
       "    </tr>\n",
       "    <tr>\n",
       "      <th>1289</th>\n",
       "      <td>University of Connecticut-Avery Point</td>\n",
       "      <td>Bachelor's</td>\n",
       "      <td>Graduate</td>\n",
       "      <td>Public</td>\n",
       "      <td>New England</td>\n",
       "      <td>Mid-size Suburb</td>\n",
       "      <td>0.5940</td>\n",
       "      <td>24</td>\n",
       "      <td>1020</td>\n",
       "      <td>12946</td>\n",
       "      <td>11730</td>\n",
       "      <td>14803</td>\n",
       "      <td>18983.0</td>\n",
       "      <td>20.120001</td>\n",
       "      <td>86510.0</td>\n",
       "      <td>49700</td>\n",
       "    </tr>\n",
       "    <tr>\n",
       "      <th>1290</th>\n",
       "      <td>University of Connecticut-Stamford</td>\n",
       "      <td>Bachelor's</td>\n",
       "      <td>Graduate</td>\n",
       "      <td>Public</td>\n",
       "      <td>New England</td>\n",
       "      <td>Mid-size City</td>\n",
       "      <td>0.4107</td>\n",
       "      <td>21</td>\n",
       "      <td>1017</td>\n",
       "      <td>13028</td>\n",
       "      <td>4958</td>\n",
       "      <td>14803</td>\n",
       "      <td>18983.0</td>\n",
       "      <td>20.120001</td>\n",
       "      <td>86510.0</td>\n",
       "      <td>49700</td>\n",
       "    </tr>\n",
       "    <tr>\n",
       "      <th>1291</th>\n",
       "      <td>California State University-Channel Islands</td>\n",
       "      <td>Bachelor's</td>\n",
       "      <td>Graduate</td>\n",
       "      <td>Public</td>\n",
       "      <td>Far West</td>\n",
       "      <td>Mid-size Suburb</td>\n",
       "      <td>0.6443</td>\n",
       "      <td>20</td>\n",
       "      <td>954</td>\n",
       "      <td>22570</td>\n",
       "      <td>12026</td>\n",
       "      <td>8434</td>\n",
       "      <td>12500.0</td>\n",
       "      <td>24.850000</td>\n",
       "      <td>32103.0</td>\n",
       "      <td>35800</td>\n",
       "    </tr>\n",
       "    <tr>\n",
       "      <th>1292</th>\n",
       "      <td>DigiPen Institute of Technology</td>\n",
       "      <td>Bachelor's</td>\n",
       "      <td>Graduate</td>\n",
       "      <td>Private For-Profit</td>\n",
       "      <td>Far West</td>\n",
       "      <td>Small City</td>\n",
       "      <td>0.6635</td>\n",
       "      <td>28</td>\n",
       "      <td>1225</td>\n",
       "      <td>37848</td>\n",
       "      <td>5998</td>\n",
       "      <td>7659</td>\n",
       "      <td>19000.0</td>\n",
       "      <td>21.209999</td>\n",
       "      <td>68233.0</td>\n",
       "      <td>72800</td>\n",
       "    </tr>\n",
       "    <tr>\n",
       "      <th>1293</th>\n",
       "      <td>Neumont University</td>\n",
       "      <td>Bachelor's</td>\n",
       "      <td>Bachelor's</td>\n",
       "      <td>Private For-Profit</td>\n",
       "      <td>Rocky Mountains</td>\n",
       "      <td>Mid-size City</td>\n",
       "      <td>0.7997</td>\n",
       "      <td>25</td>\n",
       "      <td>1104</td>\n",
       "      <td>37379</td>\n",
       "      <td>3298</td>\n",
       "      <td>6991</td>\n",
       "      <td>22313.0</td>\n",
       "      <td>24.750000</td>\n",
       "      <td>39241.0</td>\n",
       "      <td>37300</td>\n",
       "    </tr>\n",
       "  </tbody>\n",
       "</table>\n",
       "<p>1294 rows × 16 columns</p>\n",
       "</div>"
      ],
      "text/plain": [
       "                                             Name PredominantDegree  \\\n",
       "0                        Alabama A & M University        Bachelor's   \n",
       "1             University of Alabama at Birmingham        Bachelor's   \n",
       "2             University of Alabama in Huntsville        Bachelor's   \n",
       "3                        Alabama State University        Bachelor's   \n",
       "4                       The University of Alabama        Bachelor's   \n",
       "...                                           ...               ...   \n",
       "1289        University of Connecticut-Avery Point        Bachelor's   \n",
       "1290           University of Connecticut-Stamford        Bachelor's   \n",
       "1291  California State University-Channel Islands        Bachelor's   \n",
       "1292              DigiPen Institute of Technology        Bachelor's   \n",
       "1293                           Neumont University        Bachelor's   \n",
       "\n",
       "     HighestDegree        FundingModel           Region        Geography  \\\n",
       "0         Graduate              Public        Southeast    Mid-size City   \n",
       "1         Graduate              Public        Southeast    Mid-size City   \n",
       "2         Graduate              Public        Southeast    Mid-size City   \n",
       "3         Graduate              Public        Southeast    Mid-size City   \n",
       "4         Graduate              Public        Southeast       Small City   \n",
       "...            ...                 ...              ...              ...   \n",
       "1289      Graduate              Public      New England  Mid-size Suburb   \n",
       "1290      Graduate              Public      New England    Mid-size City   \n",
       "1291      Graduate              Public         Far West  Mid-size Suburb   \n",
       "1292      Graduate  Private For-Profit         Far West       Small City   \n",
       "1293    Bachelor's  Private For-Profit  Rocky Mountains    Mid-size City   \n",
       "\n",
       "      AdmissionRate  ACTMedian  SATAverage  AverageCost  Expenditure  \\\n",
       "0            0.8989         17         823        18888         7459   \n",
       "1            0.8673         25        1146        19990        17208   \n",
       "2            0.8062         26        1180        20306         9352   \n",
       "3            0.5125         17         830        17400         7393   \n",
       "4            0.5655         26        1171        26717         9817   \n",
       "...             ...        ...         ...          ...          ...   \n",
       "1289         0.5940         24        1020        12946        11730   \n",
       "1290         0.4107         21        1017        13028         4958   \n",
       "1291         0.6443         20         954        22570        12026   \n",
       "1292         0.6635         28        1225        37848         5998   \n",
       "1293         0.7997         25        1104        37379         3298   \n",
       "\n",
       "      AverageFacultySalary  MedianDebt  AverageAgeofEntry  MedianFamilyIncome  \\\n",
       "0                     7079     19500.0          20.629999             29039.0   \n",
       "1                    10170     16250.0          22.670000             34909.0   \n",
       "2                     9341     16500.0          23.190001             39766.0   \n",
       "3                     6557     15854.5          20.889999             24029.5   \n",
       "4                     9605     17750.0          20.770000             58976.0   \n",
       "...                    ...         ...                ...                 ...   \n",
       "1289                 14803     18983.0          20.120001             86510.0   \n",
       "1290                 14803     18983.0          20.120001             86510.0   \n",
       "1291                  8434     12500.0          24.850000             32103.0   \n",
       "1292                  7659     19000.0          21.209999             68233.0   \n",
       "1293                  6991     22313.0          24.750000             39241.0   \n",
       "\n",
       "      MedianEarnings  \n",
       "0              27000  \n",
       "1              37200  \n",
       "2              41500  \n",
       "3              22400  \n",
       "4              39200  \n",
       "...              ...  \n",
       "1289           49700  \n",
       "1290           49700  \n",
       "1291           35800  \n",
       "1292           72800  \n",
       "1293           37300  \n",
       "\n",
       "[1294 rows x 16 columns]"
      ]
     },
     "execution_count": 6,
     "metadata": {},
     "output_type": "execute_result"
    }
   ],
   "source": [
    "df = pd.read_csv(\"https://raw.githubusercontent.com/lux-org/lux-datasets/master/data/college.csv\")\n",
    "df"
   ]
  },
  {
   "cell_type": "code",
   "execution_count": null,
   "metadata": {},
   "outputs": [],
   "source": [
    "!pip install -r requirements.txt"
   ]
  },
  {
   "cell_type": "code",
   "execution_count": null,
   "metadata": {},
   "outputs": [],
   "source": [
    "!pip install jupyterlab-git"
   ]
  },
  {
   "cell_type": "code",
   "execution_count": null,
   "metadata": {},
   "outputs": [],
   "source": [
    "from git import Repo"
   ]
  },
  {
   "cell_type": "code",
   "execution_count": null,
   "metadata": {},
   "outputs": [],
   "source": [
    "!pip install gitpython"
   ]
  },
  {
   "cell_type": "code",
   "execution_count": null,
   "metadata": {},
   "outputs": [],
   "source": [
    "from gitdb import GitDB\n",
    "from gitdb.db.loose import LooseObjectDB"
   ]
  },
  {
   "cell_type": "code",
   "execution_count": null,
   "metadata": {},
   "outputs": [],
   "source": [
    "repo = Repo.clone_from(repo_url, local_path)"
   ]
  },
  {
   "cell_type": "code",
   "execution_count": null,
   "metadata": {},
   "outputs": [],
   "source": [
    "from gitdb import Repo"
   ]
  },
  {
   "cell_type": "code",
   "execution_count": 9,
   "metadata": {},
   "outputs": [
    {
     "ename": "SyntaxError",
     "evalue": "(unicode error) 'unicodeescape' codec can't decode bytes in position 0-1: truncated \\UXXXXXXXX escape (3848572231.py, line 1)",
     "output_type": "error",
     "traceback": [
      "\u001b[0;36m  Cell \u001b[0;32mIn[9], line 1\u001b[0;36m\u001b[0m\n\u001b[0;31m    git_objects_path = f\"{C:\\Users\\phili\\Nextcloud2\\Python\\Project\\ohtm_pipeline\\.git}\"\u001b[0m\n\u001b[0m                                                                                       ^\u001b[0m\n\u001b[0;31mSyntaxError\u001b[0m\u001b[0;31m:\u001b[0m (unicode error) 'unicodeescape' codec can't decode bytes in position 0-1: truncated \\UXXXXXXXX escape\n"
     ]
    }
   ],
   "source": [
    "git_objects_path = f\"{C:\\Users\\phili\\Nextcloud2\\Python\\Project\\ohtm_pipeline\\.git}\"\n",
    "print(\"hello\")"
   ]
  },
  {
   "cell_type": "code",
   "execution_count": 14,
   "metadata": {
    "editable": true,
    "slideshow": {
     "slide_type": ""
    },
    "tags": []
   },
   "outputs": [
    {
     "name": "stdout",
     "output_type": "stream",
     "text": [
      "The ohtm_file 'demo_ohtm_file_2.ohtm' was loaded\n",
      "No Topic Model trained\n",
      "Topic Words Top 20 was saved.\n",
      "{'corpus': {'txt_files_without_speaker': {'text_1': {'sent': {'1': {'raw': 'Ich bin ein fahrender Händler, und der Name meines Vaters war Willum Marigold', 'time': {}, 'tape': {}, 'cleaned': ['fahrender', 'händler', 'name', 'vaters', 'willum', 'marigold'], 'speaker': {}, 'chunk': 0}, '2': {'raw': 'Zu seinen Lebzeiten vermuteten einige Leute, sein Name sei William, aber mein Vater behauptete stets hartnäckig, nein, er hieße Willum.', 'time': {}, 'tape': {}, 'cleaned': ['lebzeiten', 'vermuteten', 'leute', 'name', 'william', 'vater', 'behauptete', 'hartnäckig', 'hieße', 'willum'], 'speaker': {}, 'chunk': 0}, '3': {'raw': 'Was mich angeht, so begnüge ich mich damit, die Sache von folgendem Standpunkt aus zu betrachten: Wenn es einem Mann in einem freien Lande nicht gestattet sein soll, seinen eigenen Namen zu kennen, was kann ihm da wohl noch in einem Land, wo Sklaverei herrscht, erlaubt sein', 'time': {}, 'tape': {}, 'cleaned': ['angeht', 'begnüge', 'sache', 'standpunkt', 'betrachten', 'freien', 'lande', 'gestattet', 'namen', 'kennen', 'land', 'sklaverei', 'herrscht', 'erlaubt'], 'speaker': {}, 'chunk': 1}, '4': {'raw': ' ', 'time': {}, 'tape': {}, 'cleaned': ['', ''], 'speaker': {}, 'chunk': 1}, '5': {'raw': 'Wenn man die Sache vom Standpunkt des Registers aus betrachtet, so kam Willum Marigold auf die Welt, bevor noch Register sehr im Schwange waren – und ebenso verließ er sie auch wieder', 'time': {}, 'tape': {}, 'cleaned': ['sache', 'standpunkt', 'registers', 'betrachtet', 'willum', 'marigold', 'welt', 'register', 'schwange', 'verließ'], 'speaker': {}, 'chunk': 2}, '6': {'raw': 'Außerdem würden sie ihm sehr wenig zugesagt haben, wenn sie zufälligerweise schon vor ihm aufgekommen wären.', 'time': {}, 'tape': {}, 'cleaned': ['außerdem', 'zugesagt', 'zufälligerweise', 'aufgekommen'], 'speaker': {}, 'chunk': 2}, '7': {'raw': 'Ich wurde an der Staatsstraße geboren, und mein Vater holte einen Doktor zu meiner Mutter, als das Ereignis auf einer Gemeindewiese eintrat', 'time': {}, 'tape': {}, 'cleaned': ['staatsstraße', 'geboren', 'vater', 'holte', 'doktor', 'mutter', 'ereignis', 'gemeindewiese', 'eintrat'], 'speaker': {}, 'chunk': 2}, '8': {'raw': 'Dieser Doktor war ein sehr freundlicher Gentleman und wollte als Honorar nichts annehmen als ein Teetablett, und so wurde ich aus Dankbarkeit und als besondere Aufmerksamkeit ihm gegenüber Doktor genannt.', 'time': {}, 'tape': {}, 'cleaned': ['doktor', 'freundlicher', 'gentleman', 'honorar', 'annehmen', 'teetablett', 'dankbarkeit', 'besondere', 'aufmerksamkeit', 'doktor', 'genannt'], 'speaker': {}, 'chunk': 3}, '9': {'raw': ' Da habt ihr mich also, Doktor Marigold.', 'time': {}, 'tape': {}, 'cleaned': ['', 'doktor', 'marigold'], 'speaker': {}, 'chunk': 3}, '10': {'raw': '', 'time': {}, 'tape': {}, 'cleaned': [''], 'speaker': {}, 'chunk': 3}, '11': {'raw': 'Ich bin gegenwärtig ein Mann in mittleren Jahren, von untersetzter Gestalt, in Manchesterhosen, Ledergamaschen und einer Weste mit Ärmeln, an der hinten stets der Riegel fehlt', 'time': {}, 'tape': {}, 'cleaned': ['gegenwärtig', 'mittleren', 'jahren', 'untersetzter', 'gestalt', 'manchesterhosen', 'ledergamaschen', 'weste', 'ärmeln', 'riegel', 'fehlt'], 'speaker': {}, 'chunk': 4}, '12': {'raw': 'Man kann ihn so oft ausbessern, wie man will, er platzt immer wieder, wie die Saiten einer Violine.', 'time': {}, 'tape': {}, 'cleaned': ['ausbessern', 'platzt', 'saiten', 'violine'], 'speaker': {}, 'chunk': 4}, '13': {'raw': ' Ihr seid sicher schon im Theater gewesen und habt gesehen, wie einer der Violinspieler, nachdem er an seiner Violine gehorcht hatte, als flüstere sie ihm das Geheimnis zu, sie fürchte, nicht in Ordnung zu sein, an ihr herumdrehte, und auf einmal hörtet ihr, wie die Saite platzte', 'time': {}, 'tape': {}, 'cleaned': ['', 'theater', 'violinspieler', 'violine', 'gehorcht', 'flüstere', 'geheimnis', 'fürchte', 'ordnung', 'herumdrehte', 'hörtet', 'saite', 'platzte'], 'speaker': {}, 'chunk': 5}, '14': {'raw': 'Genauso geht es auch mit meiner Weste, soweit eine Weste und eine Violine einander gleich sein können.', 'time': {}, 'tape': {}, 'cleaned': ['genauso', 'weste', 'weste', 'violine', 'einander'], 'speaker': {}, 'chunk': 5}, '15': {'raw': '', 'time': {}, 'tape': {}, 'cleaned': [''], 'speaker': {}, 'chunk': 5}, '16': {'raw': 'Ich bevorzuge einen weißen Hut und liebe es, um den Hals ein lose und bequem geschlungenes Tuch zu tragen', 'time': {}, 'tape': {}, 'cleaned': ['bevorzuge', 'weißen', 'hut', 'liebe', 'hals', 'lose', 'bequem', 'geschlungenes', 'tuch'], 'speaker': {}, 'chunk': 6}, '17': {'raw': 'Sitzen ist meine Lieblingsstellung, und was meinen Geschmack in bezug auf das Tragen von Schmuck angeht, so habe ich etwas für Perlmuttknöpfe übrig', 'time': {}, 'tape': {}, 'cleaned': ['sitzen', 'lieblingsstellung', 'geschmack', 'bezug', 'schmuck', 'angeht', 'perlmuttknöpfe'], 'speaker': {}, 'chunk': 6}, '18': {'raw': 'Da habt ihr mich wieder, in Lebensgröße.', 'time': {}, 'tape': {}, 'cleaned': ['lebensgröße'], 'speaker': {}, 'chunk': 6}, '19': {'raw': '', 'time': {}, 'tape': {}, 'cleaned': [''], 'speaker': {}, 'chunk': 6}, '20': {'raw': 'Da der Doktor ein Teetablett annahm, so werdet ihr vermuten, daß bereits mein Vater vor mir ein fahrender Händler war', 'time': {}, 'tape': {}, 'cleaned': ['doktor', 'teetablett', 'annahm', 'vermuten', 'vater', 'fahrender', 'händler'], 'speaker': {}, 'chunk': 7}, '21': {'raw': 'Darin habt ihr ganz recht', 'time': {}, 'tape': {}, 'cleaned': [], 'speaker': {}, 'chunk': 7}, '22': {'raw': ' er war auch einer', 'time': {}, 'tape': {}, 'cleaned': [''], 'speaker': {}, 'chunk': 7}, '23': {'raw': 'Es war ein hübsches Tablett', 'time': {}, 'tape': {}, 'cleaned': ['hübsches', 'tablett'], 'speaker': {}, 'chunk': 7}, '24': {'raw': 'Man sah darauf eine gewichtige Dame, die auf einem gewundenen Kiesweg zu einer kleinen Kirche auf einer Anhöhe hinaufging', 'time': {}, 'tape': {}, 'cleaned': ['sah', 'gewichtige', 'dame', 'gewundenen', 'kiesweg', 'kirche', 'anhöhe', 'hinaufging'], 'speaker': {}, 'chunk': 7}, '25': {'raw': '', 'time': {}, 'tape': {}, 'cleaned': [''], 'speaker': {}, 'chunk': 7}, '26': {'raw': 'Auch zwei Schwäne waren in derselben Absicht herbeigeflattert.', 'time': {}, 'tape': {}, 'cleaned': ['schwäne', 'absicht', 'herbeigeflattert'], 'speaker': {}, 'chunk': 7}, '27': {'raw': 'Wenn ich sie eine gewichtige Dame nenne, so meine ich damit nicht, daß sie besonders breit gewesen wäre', 'time': {}, 'tape': {}, 'cleaned': ['gewichtige', 'dame', 'nenne', 'breit'], 'speaker': {}, 'chunk': 8}, '28': {'raw': ' denn in dieser Beziehung war meiner Ansicht nach nicht viel mit ihr los, aber sie war dafür um so höher: ihre Höhe und Schlankheit war, mit einem Wort gesagt, die Höhe von Höhe und Schlankheit.', 'time': {}, 'tape': {}, 'cleaned': ['', 'beziehung', 'ansicht', 'los', 'höher', 'höhe', 'schlankheit', 'wort', 'höhe', 'höhe', 'schlankheit'], 'speaker': {}, 'chunk': 8}, '29': {'raw': 'Ich habe dieses Tablett oft gesehen, seitdem ich die unschuldig lächelnde (oder, was wahrscheinlicher ist, quäkende) Ursache dafür war, daß der Doktor es in seinem Sprechzimmer auf einem Tisch gegen die Wand gelehnt aufstellte', 'time': {}, 'tape': {}, 'cleaned': ['tablett', 'unschuldig', 'lächelnde', 'wahrscheinlicher', 'quäkende', 'ursache', 'doktor', 'sprechzimmer', 'tisch', 'wand', 'gelehnt', 'aufstellte'], 'speaker': {}, 'chunk': 9}, '30': {'raw': 'Stets, wenn mein Vater und meine Mutter in diesem Teil des Landes waren, steckte ich meinen Kopf (ich hatte damals flachsblonde Locken, wie ich meine Mutter habe erzählen hören, obwohl ihr ihn jetzt nicht eher von einem alten Besen unterscheiden könntet, als bis ihr an den Stiel kämet und entdecktet, daß dieser nicht ich bin) zu des Doktors Tür hinein, und der Doktor freute sich stets über meinen Besuch und sagte:', 'time': {}, 'tape': {}, 'cleaned': ['vater', 'mutter', 'teil', 'landes', 'steckte', 'kopf', 'flachsblonde', 'locken', 'mutter', 'erzählen', 'hören', 'alten', 'besen', 'unterscheiden', 'stiel', 'kämet', 'entdecktet', 'doktors', 'tür', 'doktor', 'freute', 'besuch'], 'speaker': {}, 'chunk': 10}, '31': {'raw': '', 'time': {}, 'tape': {}, 'cleaned': [''], 'speaker': {}, 'chunk': 10}, '32': {'raw': '»Aha, mein Herr Kollege', 'time': {}, 'tape': {}, 'cleaned': ['aha', 'herr', 'kollege'], 'speaker': {}, 'chunk': 11}, '33': {'raw': ' Komm herein, kleiner Dr', 'time': {}, 'tape': {}, 'cleaned': ['', 'komm', 'dr'], 'speaker': {}, 'chunk': 11}, '34': {'raw': 'med', 'time': {}, 'tape': {}, 'cleaned': ['med'], 'speaker': {}, 'chunk': 11}, '35': {'raw': 'Hast du Lust, ein Sechspencestück einzustecken', 'time': {}, 'tape': {}, 'cleaned': ['lust', 'sechspencestück', 'einzustecken'], 'speaker': {}, 'chunk': 11}, '36': {'raw': '«', 'time': {}, 'tape': {}, 'cleaned': [''], 'speaker': {}, 'chunk': 11}, '37': {'raw': '', 'time': {}, 'tape': {}, 'cleaned': [''], 'speaker': {}, 'chunk': 11}, '38': {'raw': 'Man kann nicht ewig weitermachen, wie ihr wißt, und das konnte auch mein Vater nicht, ebensowenig wie meine Mutter', 'time': {}, 'tape': {}, 'cleaned': ['ewig', 'weitermachen', 'wißt', 'vater', 'ebensowenig', 'mutter'], 'speaker': {}, 'chunk': 11}, '39': {'raw': 'Falls ihr aber nicht, wenn eure Zeit gekommen ist, auf einmal abrückt, dann werdet ihr es stückweise tun, und es ist zwei gegen eins zu wetten, daß euer Kopf das erste Stück ist', 'time': {}, 'tape': {}, 'cleaned': ['zeit', 'abrückt', 'stückweise', 'wetten', 'kopf', 'stück'], 'speaker': {}, 'chunk': 12}, '40': {'raw': 'Nach und nach verlor mein Vater den seinen, und meine Mutter verlor den ihren', 'time': {}, 'tape': {}, 'cleaned': ['verlor', 'vater', 'mutter', 'verlor'], 'speaker': {}, 'chunk': 12}, '41': {'raw': 'Es war ganz harmlos, aber es versetzte die Familie, wo ich sie untergebracht hatte, in Unruhe', 'time': {}, 'tape': {}, 'cleaned': ['harmlos', 'versetzte', 'familie', 'untergebracht', 'unruhe'], 'speaker': {}, 'chunk': 12}, '42': {'raw': 'Das alte Paar begann, obwohl es sich zur Ruhe gesetzt hatte, sich gänzlich und ausschließlich dem fahrenden Handelsgeschäft zu widmen und war ständig damit beschäftigt, den Besitz der Familie auszuverkaufen', 'time': {}, 'tape': {}, 'cleaned': ['alte', 'ruhe', 'gesetzt', 'ausschließlich', 'fahrenden', 'handelsgeschäft', 'widmen', 'ständig', 'beschäftigt', 'besitz', 'familie', 'auszuverkaufen'], 'speaker': {}, 'chunk': 13}, '43': {'raw': 'Wenn das Tischtuch zum Essen aufgelegt wurde, begann mein Vater mit den Tellern und Schüsseln zu rasseln, wie wir es bei unserem Geschäft tun, wenn wir Geschirr zum Ausschreien aufsetzen', 'time': {}, 'tape': {}, 'cleaned': ['tischtuch', 'essen', 'aufgelegt', 'vater', 'tellern', 'schüsseln', 'rasseln', 'geschäft', 'geschirr', 'ausschreien', 'aufsetzen'], 'speaker': {}, 'chunk': 13}, '44': {'raw': ' bloß hatte er das Geschick dafür verloren und ließ sie meist fallen, so daß sie zerbrachen', 'time': {}, 'tape': {}, 'cleaned': ['', 'bloß', 'geschick', 'verloren', 'ließ', 'fallen', 'zerbrachen'], 'speaker': {}, 'chunk': 14}, '45': {'raw': 'So wie die alte Dame gewohnt gewesen war, im Karren zu sitzen und dem alten Herrn auf dem Trittbrett die Gegenstände einen nach dem anderen zum Verkauf hinauszureichen, in genau der gleichen Weise händigte sie ihm jeden Posten aus dem Besitz der Familie aus, und sie verkauften die Ware in ihrer Phantasie von morgens bis abends', 'time': {}, 'tape': {}, 'cleaned': ['alte', 'dame', 'gewohnt', 'karren', 'sitzen', 'alten', 'herrn', 'trittbrett', 'gegenstände', 'verkauf', 'hinauszureichen', 'weise', 'händigte', 'posten', 'besitz', 'familie', 'verkauften', 'ware', 'phantasie', 'morgens', 'abends'], 'speaker': {}, 'chunk': 15}, '46': {'raw': 'Schließlich ruft der alte Herr, als er und die alte Dame im selben Zimmer krank im Bett liegen, in der alten marktschreierischen Weise aus, nachdem er zwei Tage und zwei Nächte lang kein Wort gesprochen hatte:', 'time': {}, 'tape': {}, 'cleaned': ['ruft', 'alte', 'herr', 'alte', 'dame', 'zimmer', 'krank', 'bett', 'liegen', 'alten', 'marktschreierischen', 'weise', 'tage', 'nächte', 'lang', 'wort', 'gesprochen'], 'speaker': {}, 'chunk': 16}}, 'model_base': {}}, 'text_2': {'sent': {'1': {'raw': 'Ich bin ein fahrender Händler, und der Name meines Vaters war Willum Marigold', 'time': {}, 'tape': {}, 'cleaned': ['fahrender', 'händler', 'name', 'vaters', 'willum', 'marigold'], 'speaker': {}, 'chunk': 0}, '2': {'raw': 'Zu seinen Lebzeiten vermuteten einige Leute, sein Name sei William, aber mein Vater behauptete stets hartnäckig, nein, er hieße Willum.', 'time': {}, 'tape': {}, 'cleaned': ['lebzeiten', 'vermuteten', 'leute', 'name', 'william', 'vater', 'behauptete', 'hartnäckig', 'hieße', 'willum'], 'speaker': {}, 'chunk': 0}, '3': {'raw': 'Was mich angeht, so begnüge ich mich damit, die Sache von folgendem Standpunkt aus zu betrachten: Wenn es einem Mann in einem freien Lande nicht gestattet sein soll, seinen eigenen Namen zu kennen, was kann ihm da wohl noch in einem Land, wo Sklaverei herrscht, erlaubt sein', 'time': {}, 'tape': {}, 'cleaned': ['angeht', 'begnüge', 'sache', 'standpunkt', 'betrachten', 'freien', 'lande', 'gestattet', 'namen', 'kennen', 'land', 'sklaverei', 'herrscht', 'erlaubt'], 'speaker': {}, 'chunk': 1}, '4': {'raw': ' ', 'time': {}, 'tape': {}, 'cleaned': ['', ''], 'speaker': {}, 'chunk': 1}, '5': {'raw': 'Wenn man die Sache vom Standpunkt des Registers aus betrachtet, so kam Willum Marigold auf die Welt, bevor noch Register sehr im Schwange waren – und ebenso verließ er sie auch wieder', 'time': {}, 'tape': {}, 'cleaned': ['sache', 'standpunkt', 'registers', 'betrachtet', 'willum', 'marigold', 'welt', 'register', 'schwange', 'verließ'], 'speaker': {}, 'chunk': 2}, '6': {'raw': 'Außerdem würden sie ihm sehr wenig zugesagt haben, wenn sie zufälligerweise schon vor ihm aufgekommen wären.', 'time': {}, 'tape': {}, 'cleaned': ['außerdem', 'zugesagt', 'zufälligerweise', 'aufgekommen'], 'speaker': {}, 'chunk': 2}, '7': {'raw': 'Ich wurde an der Staatsstraße geboren, und mein Vater holte einen Doktor zu meiner Mutter, als das Ereignis auf einer Gemeindewiese eintrat', 'time': {}, 'tape': {}, 'cleaned': ['staatsstraße', 'geboren', 'vater', 'holte', 'doktor', 'mutter', 'ereignis', 'gemeindewiese', 'eintrat'], 'speaker': {}, 'chunk': 2}, '8': {'raw': 'Dieser Doktor war ein sehr freundlicher Gentleman und wollte als Honorar nichts annehmen als ein Teetablett, und so wurde ich aus Dankbarkeit und als besondere Aufmerksamkeit ihm gegenüber Doktor genannt.', 'time': {}, 'tape': {}, 'cleaned': ['doktor', 'freundlicher', 'gentleman', 'honorar', 'annehmen', 'teetablett', 'dankbarkeit', 'besondere', 'aufmerksamkeit', 'doktor', 'genannt'], 'speaker': {}, 'chunk': 3}, '9': {'raw': ' Da habt ihr mich also, Doktor Marigold.', 'time': {}, 'tape': {}, 'cleaned': ['', 'doktor', 'marigold'], 'speaker': {}, 'chunk': 3}, '10': {'raw': '', 'time': {}, 'tape': {}, 'cleaned': [''], 'speaker': {}, 'chunk': 3}, '11': {'raw': 'Ich bin gegenwärtig ein Mann in mittleren Jahren, von untersetzter Gestalt, in Manchesterhosen, Ledergamaschen und einer Weste mit Ärmeln, an der hinten stets der Riegel fehlt', 'time': {}, 'tape': {}, 'cleaned': ['gegenwärtig', 'mittleren', 'jahren', 'untersetzter', 'gestalt', 'manchesterhosen', 'ledergamaschen', 'weste', 'ärmeln', 'riegel', 'fehlt'], 'speaker': {}, 'chunk': 4}, '12': {'raw': 'Man kann ihn so oft ausbessern, wie man will, er platzt immer wieder, wie die Saiten einer Violine.', 'time': {}, 'tape': {}, 'cleaned': ['ausbessern', 'platzt', 'saiten', 'violine'], 'speaker': {}, 'chunk': 4}, '13': {'raw': ' Ihr seid sicher schon im Theater gewesen und habt gesehen, wie einer der Violinspieler, nachdem er an seiner Violine gehorcht hatte, als flüstere sie ihm das Geheimnis zu, sie fürchte, nicht in Ordnung zu sein, an ihr herumdrehte, und auf einmal hörtet ihr, wie die Saite platzte', 'time': {}, 'tape': {}, 'cleaned': ['', 'theater', 'violinspieler', 'violine', 'gehorcht', 'flüstere', 'geheimnis', 'fürchte', 'ordnung', 'herumdrehte', 'hörtet', 'saite', 'platzte'], 'speaker': {}, 'chunk': 5}, '14': {'raw': 'Genauso geht es auch mit meiner Weste, soweit eine Weste und eine Violine einander gleich sein können.', 'time': {}, 'tape': {}, 'cleaned': ['genauso', 'weste', 'weste', 'violine', 'einander'], 'speaker': {}, 'chunk': 5}, '15': {'raw': '', 'time': {}, 'tape': {}, 'cleaned': [''], 'speaker': {}, 'chunk': 5}, '16': {'raw': 'Ich bevorzuge einen weißen Hut und liebe es, um den Hals ein lose und bequem geschlungenes Tuch zu tragen', 'time': {}, 'tape': {}, 'cleaned': ['bevorzuge', 'weißen', 'hut', 'liebe', 'hals', 'lose', 'bequem', 'geschlungenes', 'tuch'], 'speaker': {}, 'chunk': 6}, '17': {'raw': 'Sitzen ist meine Lieblingsstellung, und was meinen Geschmack in bezug auf das Tragen von Schmuck angeht, so habe ich etwas für Perlmuttknöpfe übrig', 'time': {}, 'tape': {}, 'cleaned': ['sitzen', 'lieblingsstellung', 'geschmack', 'bezug', 'schmuck', 'angeht', 'perlmuttknöpfe'], 'speaker': {}, 'chunk': 6}, '18': {'raw': 'Da habt ihr mich wieder, in Lebensgröße.', 'time': {}, 'tape': {}, 'cleaned': ['lebensgröße'], 'speaker': {}, 'chunk': 6}, '19': {'raw': '', 'time': {}, 'tape': {}, 'cleaned': [''], 'speaker': {}, 'chunk': 6}, '20': {'raw': 'Da der Doktor ein Teetablett annahm, so werdet ihr vermuten, daß bereits mein Vater vor mir ein fahrender Händler war', 'time': {}, 'tape': {}, 'cleaned': ['doktor', 'teetablett', 'annahm', 'vermuten', 'vater', 'fahrender', 'händler'], 'speaker': {}, 'chunk': 7}, '21': {'raw': 'Darin habt ihr ganz recht', 'time': {}, 'tape': {}, 'cleaned': [], 'speaker': {}, 'chunk': 7}, '22': {'raw': ' er war auch einer', 'time': {}, 'tape': {}, 'cleaned': [''], 'speaker': {}, 'chunk': 7}, '23': {'raw': 'Es war ein hübsches Tablett', 'time': {}, 'tape': {}, 'cleaned': ['hübsches', 'tablett'], 'speaker': {}, 'chunk': 7}, '24': {'raw': 'Man sah darauf eine gewichtige Dame, die auf einem gewundenen Kiesweg zu einer kleinen Kirche auf einer Anhöhe hinaufging', 'time': {}, 'tape': {}, 'cleaned': ['sah', 'gewichtige', 'dame', 'gewundenen', 'kiesweg', 'kirche', 'anhöhe', 'hinaufging'], 'speaker': {}, 'chunk': 7}, '25': {'raw': '', 'time': {}, 'tape': {}, 'cleaned': [''], 'speaker': {}, 'chunk': 7}, '26': {'raw': 'Auch zwei Schwäne waren in derselben Absicht herbeigeflattert.', 'time': {}, 'tape': {}, 'cleaned': ['schwäne', 'absicht', 'herbeigeflattert'], 'speaker': {}, 'chunk': 7}, '27': {'raw': 'Wenn ich sie eine gewichtige Dame nenne, so meine ich damit nicht, daß sie besonders breit gewesen wäre', 'time': {}, 'tape': {}, 'cleaned': ['gewichtige', 'dame', 'nenne', 'breit'], 'speaker': {}, 'chunk': 8}, '28': {'raw': ' denn in dieser Beziehung war meiner Ansicht nach nicht viel mit ihr los, aber sie war dafür um so höher: ihre Höhe und Schlankheit war, mit einem Wort gesagt, die Höhe von Höhe und Schlankheit.', 'time': {}, 'tape': {}, 'cleaned': ['', 'beziehung', 'ansicht', 'los', 'höher', 'höhe', 'schlankheit', 'wort', 'höhe', 'höhe', 'schlankheit'], 'speaker': {}, 'chunk': 8}, '29': {'raw': 'Ich habe dieses Tablett oft gesehen, seitdem ich die unschuldig lächelnde (oder, was wahrscheinlicher ist, quäkende) Ursache dafür war, daß der Doktor es in seinem Sprechzimmer auf einem Tisch gegen die Wand gelehnt aufstellte', 'time': {}, 'tape': {}, 'cleaned': ['tablett', 'unschuldig', 'lächelnde', 'wahrscheinlicher', 'quäkende', 'ursache', 'doktor', 'sprechzimmer', 'tisch', 'wand', 'gelehnt', 'aufstellte'], 'speaker': {}, 'chunk': 9}, '30': {'raw': 'Stets, wenn mein Vater und meine Mutter in diesem Teil des Landes waren, steckte ich meinen Kopf (ich hatte damals flachsblonde Locken, wie ich meine Mutter habe erzählen hören, obwohl ihr ihn jetzt nicht eher von einem alten Besen unterscheiden könntet, als bis ihr an den Stiel kämet und entdecktet, daß dieser nicht ich bin) zu des Doktors Tür hinein, und der Doktor freute sich stets über meinen Besuch und sagte:', 'time': {}, 'tape': {}, 'cleaned': ['vater', 'mutter', 'teil', 'landes', 'steckte', 'kopf', 'flachsblonde', 'locken', 'mutter', 'erzählen', 'hören', 'alten', 'besen', 'unterscheiden', 'stiel', 'kämet', 'entdecktet', 'doktors', 'tür', 'doktor', 'freute', 'besuch'], 'speaker': {}, 'chunk': 10}, '31': {'raw': '', 'time': {}, 'tape': {}, 'cleaned': [''], 'speaker': {}, 'chunk': 10}, '32': {'raw': '»Aha, mein Herr Kollege', 'time': {}, 'tape': {}, 'cleaned': ['aha', 'herr', 'kollege'], 'speaker': {}, 'chunk': 11}, '33': {'raw': ' Komm herein, kleiner Dr', 'time': {}, 'tape': {}, 'cleaned': ['', 'komm', 'dr'], 'speaker': {}, 'chunk': 11}, '34': {'raw': 'med', 'time': {}, 'tape': {}, 'cleaned': ['med'], 'speaker': {}, 'chunk': 11}, '35': {'raw': 'Hast du Lust, ein Sechspencestück einzustecken', 'time': {}, 'tape': {}, 'cleaned': ['lust', 'sechspencestück', 'einzustecken'], 'speaker': {}, 'chunk': 11}, '36': {'raw': '«', 'time': {}, 'tape': {}, 'cleaned': [''], 'speaker': {}, 'chunk': 11}, '37': {'raw': '', 'time': {}, 'tape': {}, 'cleaned': [''], 'speaker': {}, 'chunk': 11}, '38': {'raw': 'Man kann nicht ewig weitermachen, wie ihr wißt, und das konnte auch mein Vater nicht, ebensowenig wie meine Mutter', 'time': {}, 'tape': {}, 'cleaned': ['ewig', 'weitermachen', 'wißt', 'vater', 'ebensowenig', 'mutter'], 'speaker': {}, 'chunk': 11}, '39': {'raw': 'Falls ihr aber nicht, wenn eure Zeit gekommen ist, auf einmal abrückt, dann werdet ihr es stückweise tun, und es ist zwei gegen eins zu wetten, daß euer Kopf das erste Stück ist', 'time': {}, 'tape': {}, 'cleaned': ['zeit', 'abrückt', 'stückweise', 'wetten', 'kopf', 'stück'], 'speaker': {}, 'chunk': 12}, '40': {'raw': 'Nach und nach verlor mein Vater den seinen, und meine Mutter verlor den ihren', 'time': {}, 'tape': {}, 'cleaned': ['verlor', 'vater', 'mutter', 'verlor'], 'speaker': {}, 'chunk': 12}, '41': {'raw': 'Es war ganz harmlos, aber es versetzte die Familie, wo ich sie untergebracht hatte, in Unruhe', 'time': {}, 'tape': {}, 'cleaned': ['harmlos', 'versetzte', 'familie', 'untergebracht', 'unruhe'], 'speaker': {}, 'chunk': 12}, '42': {'raw': 'Das alte Paar begann, obwohl es sich zur Ruhe gesetzt hatte, sich gänzlich und ausschließlich dem fahrenden Handelsgeschäft zu widmen und war ständig damit beschäftigt, den Besitz der Familie auszuverkaufen', 'time': {}, 'tape': {}, 'cleaned': ['alte', 'ruhe', 'gesetzt', 'ausschließlich', 'fahrenden', 'handelsgeschäft', 'widmen', 'ständig', 'beschäftigt', 'besitz', 'familie', 'auszuverkaufen'], 'speaker': {}, 'chunk': 13}, '43': {'raw': 'Wenn das Tischtuch zum Essen aufgelegt wurde, begann mein Vater mit den Tellern und Schüsseln zu rasseln, wie wir es bei unserem Geschäft tun, wenn wir Geschirr zum Ausschreien aufsetzen', 'time': {}, 'tape': {}, 'cleaned': ['tischtuch', 'essen', 'aufgelegt', 'vater', 'tellern', 'schüsseln', 'rasseln', 'geschäft', 'geschirr', 'ausschreien', 'aufsetzen'], 'speaker': {}, 'chunk': 13}, '44': {'raw': ' bloß hatte er das Geschick dafür verloren und ließ sie meist fallen, so daß sie zerbrachen', 'time': {}, 'tape': {}, 'cleaned': ['', 'bloß', 'geschick', 'verloren', 'ließ', 'fallen', 'zerbrachen'], 'speaker': {}, 'chunk': 14}, '45': {'raw': 'So wie die alte Dame gewohnt gewesen war, im Karren zu sitzen und dem alten Herrn auf dem Trittbrett die Gegenstände einen nach dem anderen zum Verkauf hinauszureichen, in genau der gleichen Weise händigte sie ihm jeden Posten aus dem Besitz der Familie aus, und sie verkauften die Ware in ihrer Phantasie von morgens bis abends', 'time': {}, 'tape': {}, 'cleaned': ['alte', 'dame', 'gewohnt', 'karren', 'sitzen', 'alten', 'herrn', 'trittbrett', 'gegenstände', 'verkauf', 'hinauszureichen', 'weise', 'händigte', 'posten', 'besitz', 'familie', 'verkauften', 'ware', 'phantasie', 'morgens', 'abends'], 'speaker': {}, 'chunk': 15}, '46': {'raw': 'Schließlich ruft der alte Herr, als er und die alte Dame im selben Zimmer krank im Bett liegen, in der alten marktschreierischen Weise aus, nachdem er zwei Tage und zwei Nächte lang kein Wort gesprochen hatte:', 'time': {}, 'tape': {}, 'cleaned': ['ruft', 'alte', 'herr', 'alte', 'dame', 'zimmer', 'krank', 'bett', 'liegen', 'alten', 'marktschreierischen', 'weise', 'tage', 'nächte', 'lang', 'wort', 'gesprochen'], 'speaker': {}, 'chunk': 16}}, 'model_base': {}}, 'text_3': {'sent': {'1': {'raw': 'Ich bin ein fahrender Händler, und der Name meines Vaters war Willum Marigold', 'time': {}, 'tape': {}, 'cleaned': ['fahrender', 'händler', 'name', 'vaters', 'willum', 'marigold'], 'speaker': {}, 'chunk': 0}, '2': {'raw': 'Zu seinen Lebzeiten vermuteten einige Leute, sein Name sei William, aber mein Vater behauptete stets hartnäckig, nein, er hieße Willum.', 'time': {}, 'tape': {}, 'cleaned': ['lebzeiten', 'vermuteten', 'leute', 'name', 'william', 'vater', 'behauptete', 'hartnäckig', 'hieße', 'willum'], 'speaker': {}, 'chunk': 0}, '3': {'raw': 'Was mich angeht, so begnüge ich mich damit, die Sache von folgendem Standpunkt aus zu betrachten: Wenn es einem Mann in einem freien Lande nicht gestattet sein soll, seinen eigenen Namen zu kennen, was kann ihm da wohl noch in einem Land, wo Sklaverei herrscht, erlaubt sein', 'time': {}, 'tape': {}, 'cleaned': ['angeht', 'begnüge', 'sache', 'standpunkt', 'betrachten', 'freien', 'lande', 'gestattet', 'namen', 'kennen', 'land', 'sklaverei', 'herrscht', 'erlaubt'], 'speaker': {}, 'chunk': 1}, '4': {'raw': ' ', 'time': {}, 'tape': {}, 'cleaned': ['', ''], 'speaker': {}, 'chunk': 1}, '5': {'raw': 'Wenn man die Sache vom Standpunkt des Registers aus betrachtet, so kam Willum Marigold auf die Welt, bevor noch Register sehr im Schwange waren – und ebenso verließ er sie auch wieder', 'time': {}, 'tape': {}, 'cleaned': ['sache', 'standpunkt', 'registers', 'betrachtet', 'willum', 'marigold', 'welt', 'register', 'schwange', 'verließ'], 'speaker': {}, 'chunk': 2}, '6': {'raw': 'Außerdem würden sie ihm sehr wenig zugesagt haben, wenn sie zufälligerweise schon vor ihm aufgekommen wären.', 'time': {}, 'tape': {}, 'cleaned': ['außerdem', 'zugesagt', 'zufälligerweise', 'aufgekommen'], 'speaker': {}, 'chunk': 2}, '7': {'raw': 'Ich wurde an der Staatsstraße geboren, und mein Vater holte einen Doktor zu meiner Mutter, als das Ereignis auf einer Gemeindewiese eintrat', 'time': {}, 'tape': {}, 'cleaned': ['staatsstraße', 'geboren', 'vater', 'holte', 'doktor', 'mutter', 'ereignis', 'gemeindewiese', 'eintrat'], 'speaker': {}, 'chunk': 2}, '8': {'raw': 'Dieser Doktor war ein sehr freundlicher Gentleman und wollte als Honorar nichts annehmen als ein Teetablett, und so wurde ich aus Dankbarkeit und als besondere Aufmerksamkeit ihm gegenüber Doktor genannt.', 'time': {}, 'tape': {}, 'cleaned': ['doktor', 'freundlicher', 'gentleman', 'honorar', 'annehmen', 'teetablett', 'dankbarkeit', 'besondere', 'aufmerksamkeit', 'doktor', 'genannt'], 'speaker': {}, 'chunk': 3}, '9': {'raw': ' Da habt ihr mich also, Doktor Marigold.', 'time': {}, 'tape': {}, 'cleaned': ['', 'doktor', 'marigold'], 'speaker': {}, 'chunk': 3}, '10': {'raw': '', 'time': {}, 'tape': {}, 'cleaned': [''], 'speaker': {}, 'chunk': 3}, '11': {'raw': 'Ich bin gegenwärtig ein Mann in mittleren Jahren, von untersetzter Gestalt, in Manchesterhosen, Ledergamaschen und einer Weste mit Ärmeln, an der hinten stets der Riegel fehlt', 'time': {}, 'tape': {}, 'cleaned': ['gegenwärtig', 'mittleren', 'jahren', 'untersetzter', 'gestalt', 'manchesterhosen', 'ledergamaschen', 'weste', 'ärmeln', 'riegel', 'fehlt'], 'speaker': {}, 'chunk': 4}, '12': {'raw': 'Man kann ihn so oft ausbessern, wie man will, er platzt immer wieder, wie die Saiten einer Violine.', 'time': {}, 'tape': {}, 'cleaned': ['ausbessern', 'platzt', 'saiten', 'violine'], 'speaker': {}, 'chunk': 4}, '13': {'raw': ' Ihr seid sicher schon im Theater gewesen und habt gesehen, wie einer der Violinspieler, nachdem er an seiner Violine gehorcht hatte, als flüstere sie ihm das Geheimnis zu, sie fürchte, nicht in Ordnung zu sein, an ihr herumdrehte, und auf einmal hörtet ihr, wie die Saite platzte', 'time': {}, 'tape': {}, 'cleaned': ['', 'theater', 'violinspieler', 'violine', 'gehorcht', 'flüstere', 'geheimnis', 'fürchte', 'ordnung', 'herumdrehte', 'hörtet', 'saite', 'platzte'], 'speaker': {}, 'chunk': 5}, '14': {'raw': 'Genauso geht es auch mit meiner Weste, soweit eine Weste und eine Violine einander gleich sein können.', 'time': {}, 'tape': {}, 'cleaned': ['genauso', 'weste', 'weste', 'violine', 'einander'], 'speaker': {}, 'chunk': 5}, '15': {'raw': '', 'time': {}, 'tape': {}, 'cleaned': [''], 'speaker': {}, 'chunk': 5}, '16': {'raw': 'Ich bevorzuge einen weißen Hut und liebe es, um den Hals ein lose und bequem geschlungenes Tuch zu tragen', 'time': {}, 'tape': {}, 'cleaned': ['bevorzuge', 'weißen', 'hut', 'liebe', 'hals', 'lose', 'bequem', 'geschlungenes', 'tuch'], 'speaker': {}, 'chunk': 6}, '17': {'raw': 'Sitzen ist meine Lieblingsstellung, und was meinen Geschmack in bezug auf das Tragen von Schmuck angeht, so habe ich etwas für Perlmuttknöpfe übrig', 'time': {}, 'tape': {}, 'cleaned': ['sitzen', 'lieblingsstellung', 'geschmack', 'bezug', 'schmuck', 'angeht', 'perlmuttknöpfe'], 'speaker': {}, 'chunk': 6}, '18': {'raw': 'Da habt ihr mich wieder, in Lebensgröße.', 'time': {}, 'tape': {}, 'cleaned': ['lebensgröße'], 'speaker': {}, 'chunk': 6}, '19': {'raw': '', 'time': {}, 'tape': {}, 'cleaned': [''], 'speaker': {}, 'chunk': 6}, '20': {'raw': 'Da der Doktor ein Teetablett annahm, so werdet ihr vermuten, daß bereits mein Vater vor mir ein fahrender Händler war', 'time': {}, 'tape': {}, 'cleaned': ['doktor', 'teetablett', 'annahm', 'vermuten', 'vater', 'fahrender', 'händler'], 'speaker': {}, 'chunk': 7}, '21': {'raw': 'Darin habt ihr ganz recht', 'time': {}, 'tape': {}, 'cleaned': [], 'speaker': {}, 'chunk': 7}, '22': {'raw': ' er war auch einer', 'time': {}, 'tape': {}, 'cleaned': [''], 'speaker': {}, 'chunk': 7}, '23': {'raw': 'Es war ein hübsches Tablett', 'time': {}, 'tape': {}, 'cleaned': ['hübsches', 'tablett'], 'speaker': {}, 'chunk': 7}, '24': {'raw': 'Man sah darauf eine gewichtige Dame, die auf einem gewundenen Kiesweg zu einer kleinen Kirche auf einer Anhöhe hinaufging', 'time': {}, 'tape': {}, 'cleaned': ['sah', 'gewichtige', 'dame', 'gewundenen', 'kiesweg', 'kirche', 'anhöhe', 'hinaufging'], 'speaker': {}, 'chunk': 7}, '25': {'raw': '', 'time': {}, 'tape': {}, 'cleaned': [''], 'speaker': {}, 'chunk': 7}, '26': {'raw': 'Auch zwei Schwäne waren in derselben Absicht herbeigeflattert.', 'time': {}, 'tape': {}, 'cleaned': ['schwäne', 'absicht', 'herbeigeflattert'], 'speaker': {}, 'chunk': 7}, '27': {'raw': 'Wenn ich sie eine gewichtige Dame nenne, so meine ich damit nicht, daß sie besonders breit gewesen wäre', 'time': {}, 'tape': {}, 'cleaned': ['gewichtige', 'dame', 'nenne', 'breit'], 'speaker': {}, 'chunk': 8}, '28': {'raw': ' denn in dieser Beziehung war meiner Ansicht nach nicht viel mit ihr los, aber sie war dafür um so höher: ihre Höhe und Schlankheit war, mit einem Wort gesagt, die Höhe von Höhe und Schlankheit.', 'time': {}, 'tape': {}, 'cleaned': ['', 'beziehung', 'ansicht', 'los', 'höher', 'höhe', 'schlankheit', 'wort', 'höhe', 'höhe', 'schlankheit'], 'speaker': {}, 'chunk': 8}, '29': {'raw': 'Ich habe dieses Tablett oft gesehen, seitdem ich die unschuldig lächelnde (oder, was wahrscheinlicher ist, quäkende) Ursache dafür war, daß der Doktor es in seinem Sprechzimmer auf einem Tisch gegen die Wand gelehnt aufstellte', 'time': {}, 'tape': {}, 'cleaned': ['tablett', 'unschuldig', 'lächelnde', 'wahrscheinlicher', 'quäkende', 'ursache', 'doktor', 'sprechzimmer', 'tisch', 'wand', 'gelehnt', 'aufstellte'], 'speaker': {}, 'chunk': 9}, '30': {'raw': 'Stets, wenn mein Vater und meine Mutter in diesem Teil des Landes waren, steckte ich meinen Kopf (ich hatte damals flachsblonde Locken, wie ich meine Mutter habe erzählen hören, obwohl ihr ihn jetzt nicht eher von einem alten Besen unterscheiden könntet, als bis ihr an den Stiel kämet und entdecktet, daß dieser nicht ich bin) zu des Doktors Tür hinein, und der Doktor freute sich stets über meinen Besuch und sagte:', 'time': {}, 'tape': {}, 'cleaned': ['vater', 'mutter', 'teil', 'landes', 'steckte', 'kopf', 'flachsblonde', 'locken', 'mutter', 'erzählen', 'hören', 'alten', 'besen', 'unterscheiden', 'stiel', 'kämet', 'entdecktet', 'doktors', 'tür', 'doktor', 'freute', 'besuch'], 'speaker': {}, 'chunk': 10}, '31': {'raw': '', 'time': {}, 'tape': {}, 'cleaned': [''], 'speaker': {}, 'chunk': 10}, '32': {'raw': '»Aha, mein Herr Kollege', 'time': {}, 'tape': {}, 'cleaned': ['aha', 'herr', 'kollege'], 'speaker': {}, 'chunk': 11}, '33': {'raw': ' Komm herein, kleiner Dr', 'time': {}, 'tape': {}, 'cleaned': ['', 'komm', 'dr'], 'speaker': {}, 'chunk': 11}, '34': {'raw': 'med', 'time': {}, 'tape': {}, 'cleaned': ['med'], 'speaker': {}, 'chunk': 11}, '35': {'raw': 'Hast du Lust, ein Sechspencestück einzustecken', 'time': {}, 'tape': {}, 'cleaned': ['lust', 'sechspencestück', 'einzustecken'], 'speaker': {}, 'chunk': 11}, '36': {'raw': '«', 'time': {}, 'tape': {}, 'cleaned': [''], 'speaker': {}, 'chunk': 11}, '37': {'raw': '', 'time': {}, 'tape': {}, 'cleaned': [''], 'speaker': {}, 'chunk': 11}, '38': {'raw': 'Man kann nicht ewig weitermachen, wie ihr wißt, und das konnte auch mein Vater nicht, ebensowenig wie meine Mutter', 'time': {}, 'tape': {}, 'cleaned': ['ewig', 'weitermachen', 'wißt', 'vater', 'ebensowenig', 'mutter'], 'speaker': {}, 'chunk': 11}, '39': {'raw': 'Falls ihr aber nicht, wenn eure Zeit gekommen ist, auf einmal abrückt, dann werdet ihr es stückweise tun, und es ist zwei gegen eins zu wetten, daß euer Kopf das erste Stück ist', 'time': {}, 'tape': {}, 'cleaned': ['zeit', 'abrückt', 'stückweise', 'wetten', 'kopf', 'stück'], 'speaker': {}, 'chunk': 12}, '40': {'raw': 'Nach und nach verlor mein Vater den seinen, und meine Mutter verlor den ihren', 'time': {}, 'tape': {}, 'cleaned': ['verlor', 'vater', 'mutter', 'verlor'], 'speaker': {}, 'chunk': 12}, '41': {'raw': 'Es war ganz harmlos, aber es versetzte die Familie, wo ich sie untergebracht hatte, in Unruhe', 'time': {}, 'tape': {}, 'cleaned': ['harmlos', 'versetzte', 'familie', 'untergebracht', 'unruhe'], 'speaker': {}, 'chunk': 12}, '42': {'raw': 'Das alte Paar begann, obwohl es sich zur Ruhe gesetzt hatte, sich gänzlich und ausschließlich dem fahrenden Handelsgeschäft zu widmen und war ständig damit beschäftigt, den Besitz der Familie auszuverkaufen', 'time': {}, 'tape': {}, 'cleaned': ['alte', 'ruhe', 'gesetzt', 'ausschließlich', 'fahrenden', 'handelsgeschäft', 'widmen', 'ständig', 'beschäftigt', 'besitz', 'familie', 'auszuverkaufen'], 'speaker': {}, 'chunk': 13}, '43': {'raw': 'Wenn das Tischtuch zum Essen aufgelegt wurde, begann mein Vater mit den Tellern und Schüsseln zu rasseln, wie wir es bei unserem Geschäft tun, wenn wir Geschirr zum Ausschreien aufsetzen', 'time': {}, 'tape': {}, 'cleaned': ['tischtuch', 'essen', 'aufgelegt', 'vater', 'tellern', 'schüsseln', 'rasseln', 'geschäft', 'geschirr', 'ausschreien', 'aufsetzen'], 'speaker': {}, 'chunk': 13}, '44': {'raw': ' bloß hatte er das Geschick dafür verloren und ließ sie meist fallen, so daß sie zerbrachen', 'time': {}, 'tape': {}, 'cleaned': ['', 'bloß', 'geschick', 'verloren', 'ließ', 'fallen', 'zerbrachen'], 'speaker': {}, 'chunk': 14}, '45': {'raw': 'So wie die alte Dame gewohnt gewesen war, im Karren zu sitzen und dem alten Herrn auf dem Trittbrett die Gegenstände einen nach dem anderen zum Verkauf hinauszureichen, in genau der gleichen Weise händigte sie ihm jeden Posten aus dem Besitz der Familie aus, und sie verkauften die Ware in ihrer Phantasie von morgens bis abends', 'time': {}, 'tape': {}, 'cleaned': ['alte', 'dame', 'gewohnt', 'karren', 'sitzen', 'alten', 'herrn', 'trittbrett', 'gegenstände', 'verkauf', 'hinauszureichen', 'weise', 'händigte', 'posten', 'besitz', 'familie', 'verkauften', 'ware', 'phantasie', 'morgens', 'abends'], 'speaker': {}, 'chunk': 15}, '46': {'raw': 'Schließlich ruft der alte Herr, als er und die alte Dame im selben Zimmer krank im Bett liegen, in der alten marktschreierischen Weise aus, nachdem er zwei Tage und zwei Nächte lang kein Wort gesprochen hatte:', 'time': {}, 'tape': {}, 'cleaned': ['ruft', 'alte', 'herr', 'alte', 'dame', 'zimmer', 'krank', 'bett', 'liegen', 'alten', 'marktschreierischen', 'weise', 'tage', 'nächte', 'lang', 'wort', 'gesprochen'], 'speaker': {}, 'chunk': 16}}, 'model_base': {}}}}, 'weight': {}, 'words': {}, 'stopwords': ['ab', 'aber', 'abermaliges', 'abermals', 'abgerufen', 'abgerufene', 'abgerufener', 'abgerufenes', 'abgesehen', 'acht', 'aehnlich', 'aehnliche', 'aehnlichem', 'aehnlichen', 'aehnlicher', 'aehnliches', 'aehnlichste', 'aehnlichstem', 'aehnlichsten', 'aehnlichster', 'aehnlichstes', 'aeusserst', 'aeusserste', 'aeusserstem', 'aeussersten', 'aeusserster', 'aeusserstes', 'ähnlich', 'ähnliche', 'ähnlichem', 'ähnlichen', 'ähnlicher', 'ähnliches', 'ähnlichst', 'ähnlichste', 'ähnlichstem', 'ähnlichsten', 'ähnlichster', 'ähnlichstes', 'alle', 'allein', 'alleine', 'allem', 'allemal', 'allen', 'allenfalls', 'allenthalben', 'aller', 'allerdings', 'allerlei', 'alles', 'allesamt', 'allg', 'allg.', 'allgemein', 'allgemeine', 'allgemeinem', 'allgemeinen', 'allgemeiner', 'allgemeines', 'allgemeinste', 'allgemeinstem', 'allgemeinsten', 'allgemeinster', 'allgemeinstes', 'allmählich', 'allzeit', 'allzu', 'als', 'alsbald', 'also', 'am', 'an', 'and', 'andauernd', 'andauernde', 'andauerndem', 'andauernden', 'andauernder', 'andauerndes', 'ander', 'andere', 'anderem', 'anderen', 'anderenfalls', 'anderer', 'andererseits', 'anderes', 'anderm', 'andern', 'andernfalls', 'anderr', 'anders', 'anderst', 'anderweitig', 'anderweitige', 'anderweitigem', 'anderweitigen', 'anderweitiger', 'anderweitiges', 'anerkannt', 'anerkannte', 'anerkannter', 'anerkanntes', 'anfangen', 'anfing', 'angefangen', 'angesetze', 'angesetzt', 'angesetzten', 'angesetzter', 'ans', 'anscheinend', 'ansetzen', 'ansonst', 'ansonsten', 'anstatt', 'anstelle', 'arbeiten', 'auch', 'auf', 'aufgehört', 'aufgrund', 'aufhören', 'aufhörte', 'aufzusuchen', 'augenscheinlich', 'augenscheinliche', 'augenscheinlichem', 'augenscheinlichen', 'augenscheinlicher', 'augenscheinliches', 'augenscheinlichst', 'augenscheinlichste', 'augenscheinlichstem', 'augenscheinlichsten', 'augenscheinlichster', 'augenscheinlichstes', 'aus', 'ausdrücken', 'ausdrücklich', 'ausdrückliche', 'ausdrücklichem', 'ausdrücklichen', 'ausdrücklicher', 'ausdrückliches', 'ausdrückt', 'ausdrückte', 'ausgenommen', 'ausgenommene', 'ausgenommenem', 'ausgenommenen', 'ausgenommener', 'ausgenommenes', 'ausgerechnet', 'ausgerechnete', 'ausgerechnetem', 'ausgerechneten', 'ausgerechneter', 'ausgerechnetes', 'ausnahmslos', 'ausnahmslose', 'ausnahmslosem', 'ausnahmslosen', 'ausnahmsloser', 'ausnahmsloses', 'außen', 'ausser', 'ausserdem', 'außerhalb', 'äusserst', 'äusserste', 'äusserstem', 'äussersten', 'äusserster', 'äusserstes', 'author', 'autor', 'baelde', 'bald', 'bälde', 'bearbeite', 'bearbeiten', 'bearbeitete', 'bearbeiteten', 'bedarf', 'bedürfen', 'bedurfte', 'been', 'befahl', 'befiehlt', 'befiehlte', 'befohlene', 'befohlens', 'befragen', 'befragte', 'befragten', 'befragter', 'begann', 'beginnen', 'begonnen', 'behalten', 'behielt', 'bei', 'beide', 'beidem', 'beiden', 'beider', 'beiderlei', 'beides', 'beim', 'beinahe', 'beisammen', 'beispielsweise', 'beitragen', 'beitrugen', 'bekannt', 'bekannte', 'bekannter', 'bekanntlich', 'bekanntliche', 'bekanntlichem', 'bekanntlichen', 'bekanntlicher', 'bekanntliches', 'bekennen', 'benutzt', 'bereits', 'berichten', 'berichtet', 'berichtete', 'berichteten', 'besonders', 'besser', 'bessere', 'besserem', 'besseren', 'besserer', 'besseres', 'bestehen', 'besteht', 'bestenfalls', 'bestimmt', 'bestimmte', 'bestimmtem', 'bestimmten', 'bestimmter', 'bestimmtes', 'beträchtlich', 'beträchtliche', 'beträchtlichem', 'beträchtlichen', 'beträchtlicher', 'beträchtliches', 'betraechtlich', 'betraechtliche', 'betraechtlichem', 'betraechtlichen', 'betraechtlicher', 'betraechtliches', 'betreffend', 'betreffende', 'betreffendem', 'betreffenden', 'betreffender', 'betreffendes', 'bevor', 'bez', 'bez.', 'bezgl', 'bezgl.', 'bezueglich', 'bezüglich', 'bietet', 'bin', 'bis', 'bisher', 'bisherige', 'bisherigem', 'bisherigen', 'bisheriger', 'bisheriges', 'bislang', 'bisschen', 'bist', 'bitte', 'bleiben', 'bleibt', 'blieb', 'bloss', 'böden', 'boeden', 'brachte', 'brachten', 'brauchen', 'braucht', 'bräuchte', 'bringen', 'bsp', 'bsp.', 'bspw', 'bspw.', 'bzw', 'bzw.', 'ca', 'ca.', 'circa', 'da', 'dabei', 'dadurch', 'dafuer', 'dafür', 'dagegen', 'daher', 'dahin', 'dahingehend', 'dahingehende', 'dahingehendem', 'dahingehenden', 'dahingehender', 'dahingehendes', 'dahinter', 'damalige', 'damaligem', 'damaligen', 'damaliger', 'damaliges', 'damals', 'damit', 'danach', 'daneben', 'dank', 'danke', 'danken', 'dann', 'dannen', 'daran', 'darauf', 'daraus', 'darf', 'darfst', 'darin', 'darüber', 'darüberhinaus', 'darueber', 'darueberhinaus', 'darum', 'darunter', 'das', 'daß', 'dass', 'dasselbe', 'dat', 'davon', 'davor', 'dazu', 'dazwischen', 'dein', 'deine', 'deinem', 'deinen', 'deiner', 'deines', 'dem', 'demgegenüber', 'demgegenueber', 'demgemaess', 'demgemäss', 'demnach', 'demselben', 'den', 'denen', 'denkbar', 'denkbare', 'denkbarem', 'denkbaren', 'denkbarer', 'denkbares', 'denn', 'dennoch', 'denselben', 'der', 'derart', 'derartig', 'derartige', 'derartigem', 'derartigen', 'derartiger', 'derem', 'deren', 'derer', 'derjenige', 'derjenigen', 'derselbe', 'derselben', 'derzeit', 'derzeitig', 'derzeitige', 'derzeitigem', 'derzeitigen', 'derzeitiges', 'des', 'deshalb', 'desselben', 'dessen', 'dessenungeachtet', 'desto', 'desungeachtet', 'deswegen', 'dich', 'die', 'diejenige', 'diejenigen', 'dies', 'diese', 'dieselbe', 'dieselben', 'diesem', 'diesen', 'dieser', 'dieses', 'diesseitig', 'diesseitige', 'diesseitigem', 'diesseitigen', 'diesseitiger', 'diesseitiges', 'diesseits', 'dinge', 'dir', 'direkt', 'direkte', 'direkten', 'direkter', 'doch', 'doppelt', 'dort', 'dorther', 'dorthin', 'dran', 'drauf', 'drei', 'dreißig', 'drin', 'dritte', 'drüber', 'drueber', 'drum', 'drunter', 'du', 'duerfte', 'duerften', 'duerftest', 'duerftet', 'dunklen', 'durch', 'durchaus', 'durchweg', 'durchwegs', 'dürfen', 'durfte', 'dürfte', 'durften', 'dürften', 'durftest', 'dürftest', 'durftet', 'dürftet', 'eben', 'ebenfalls', 'ebenso', 'ect', 'ect.', 'ehe', 'eher', 'eheste', 'ehestem', 'ehesten', 'ehester', 'ehestes', 'eigen', 'eigene', 'eigenem', 'eigenen', 'eigener', 'eigenes', 'eigenst', 'eigentlich', 'eigentliche', 'eigentlichem', 'eigentlichen', 'eigentlicher', 'eigentliches', 'ein', 'einbaün', 'eine', 'einem', 'einen', 'einer', 'einerlei', 'einerseits', 'eines', 'einfach', 'einführen', 'einführte', 'einführten', 'eingesetzt', 'einig', 'einige', 'einigem', 'einigen', 'einiger', 'einigermaßen', 'einiges', 'einmal', 'einmalig', 'einmalige', 'einmaligem', 'einmaligen', 'einmaliger', 'einmaliges', 'eins', 'einseitig', 'einseitige', 'einseitigen', 'einseitiger', 'einst', 'einstmals', 'einzig', 'empfunden', 'ende', 'entgegen', 'entlang', 'entsprechend', 'entsprechende', 'entsprechendem', 'entsprechenden', 'entsprechender', 'entsprechendes', 'entweder', 'er', 'ergänze', 'ergänzen', 'ergänzte', 'ergänzten', 'ergo', 'erhält', 'erhalten', 'erhielt', 'erhielten', 'erneut', 'eröffne', 'eröffnen', 'eröffnet', 'eröffnete', 'eröffnetes', 'erscheinen', 'erst', 'erste', 'erstem', 'ersten', 'erster', 'erstere', 'ersterem', 'ersteren', 'ersterer', 'ersteres', 'erstes', 'es', 'etc', 'etc.', 'etliche', 'etlichem', 'etlichen', 'etlicher', 'etliches', 'etwa', 'etwaige', 'etwas', 'euch', 'euer', 'eure', 'eurem', 'euren', 'eurer', 'eures', 'euretwegen', 'fall', 'falls', 'fand', 'fast', 'ferner', 'fertig', 'finde', 'finden', 'findest', 'findet', 'folgend', 'folgende', 'folgendem', 'folgenden', 'folgender', 'folgendermassen', 'folgendes', 'folglich', 'for', 'fordern', 'fordert', 'forderte', 'forderten', 'fort', 'fortsetzen', 'fortsetzt', 'fortsetzte', 'fortsetzten', 'fragte', 'frau', 'frei', 'freie', 'freier', 'freies', 'fuer', 'fuers', 'fünf', 'für', 'fürs', 'gab', 'gaenzlich', 'gaenzliche', 'gaenzlichem', 'gaenzlichen', 'gaenzlicher', 'gaenzliches', 'gängig', 'gängige', 'gängigen', 'gängiger', 'gängiges', 'ganz', 'ganze', 'ganzem', 'ganzen', 'ganzer', 'ganzes', 'gänzlich', 'gänzliche', 'gänzlichem', 'gänzlichen', 'gänzlicher', 'gänzliches', 'gar', 'gbr', 'geb', 'geben', 'geblieben', 'gebracht', 'gedurft', 'geehrt', 'geehrte', 'geehrten', 'geehrter', 'gefallen', 'gefälligst', 'gefällt', 'gefiel', 'gegeben', 'gegen', 'gegenüber', 'gegenueber', 'gehabt', 'gehalten', 'gehen', 'geht', 'gekommen', 'gekonnt', 'gemacht', 'gemaess', 'gemäss', 'gemeinhin', 'gemocht', 'genau', 'genommen', 'genug', 'gepriesener', 'gepriesenes', 'gerade', 'gern', 'gesagt', 'gesehen', 'gestern', 'gestrige', 'getan', 'geteilt', 'geteilte', 'getragen', 'getrennt', 'gewesen', 'gewiss', 'gewisse', 'gewissem', 'gewissen', 'gewisser', 'gewissermaßen', 'gewisses', 'gewollt', 'geworden', 'ggf', 'ggf.', 'gib', 'gibt', 'gilt', 'gleich', 'gleiche', 'gleichem', 'gleichen', 'gleicher', 'gleiches', 'gleichsam', 'gleichste', 'gleichstem', 'gleichsten', 'gleichster', 'gleichstes', 'gleichwohl', 'gleichzeitig', 'gleichzeitige', 'gleichzeitigem', 'gleichzeitigen', 'gleichzeitiger', 'gleichzeitiges', 'glücklicherweise', 'gluecklicherweise', 'gmbh', 'gottseidank', 'gratulieren', 'gratuliert', 'gratulierte', 'groesstenteils', 'grösstenteils', 'gruendlich', 'gründlich', 'gut', 'gute', 'guten', 'hab', 'habe', 'haben', 'habt', 'haette', 'haeufig', 'haeufige', 'haeufigem', 'haeufigen', 'haeufiger', 'haeufigere', 'haeufigeren', 'haeufigerer', 'haeufigeres', 'halb', 'hallo', 'halten', 'hast', 'hat', 'hätt', 'hatte', 'hätte', 'hatten', 'hätten', 'hattest', 'hattet', 'häufig', 'häufige', 'häufigem', 'häufigen', 'häufiger', 'häufigere', 'häufigeren', 'häufigerer', 'häufigeres', 'hen', 'her', 'heraus', 'herein', 'herum', 'heute', 'heutige', 'heutigem', 'heutigen', 'heutiger', 'heutiges', 'hier', 'hier', 'hierbei', 'hiermit', 'hiesige', 'hiesigem', 'hiesigen', 'hiesiger', 'hiesiges', 'hin', 'hindurch', 'hinein', 'hingegen', 'hinlanglich', 'hinlänglich', 'hinten', 'hintendran', 'hinter', 'hinterher', 'hinterm', 'hintern', 'hinunter', 'hoch', 'höchst', 'höchstens', 'http', 'hundert', 'ich', 'igitt', 'ihm', 'ihn', 'ihnen', 'ihr', 'ihre', 'ihrem', 'ihren', 'ihrer', 'ihres', 'ihretwegen', 'ihrige', 'ihrigen', 'ihriges', 'im', 'immer', 'immerhin', 'immerwaehrend', 'immerwaehrende', 'immerwaehrendem', 'immerwaehrenden', 'immerwaehrender', 'immerwaehrendes', 'immerwährend', 'immerwährende', 'immerwährendem', 'immerwährenden', 'immerwährender', 'immerwährendes', 'immerzu', 'important', 'in', 'indem', 'indessen', 'inf.', 'info', 'infolge', 'infolgedessen', 'information', 'innen', 'innerhalb', 'innerlich', 'ins', 'insbesondere', 'insgeheim', 'insgeheime', 'insgeheimer', 'insgesamt', 'insgesamte', 'insgesamter', 'insofern', 'inzwischen', 'irgend', 'irgendein', 'irgendeine', 'irgendeinem', 'irgendeiner', 'irgendeines', 'irgendetwas', 'irgendjemand', 'irgendjemandem', 'irgendwann', 'irgendwas', 'irgendwelche', 'irgendwen', 'irgendwenn', 'irgendwer', 'irgendwie', 'irgendwo', 'irgendwohin', 'ist', 'ja', 'jaehrig', 'jaehrige', 'jaehrigem', 'jaehrigen', 'jaehriger', 'jaehriges', 'jährig', 'jährige', 'jährigem', 'jährigen', 'jähriges', 'je', 'jede', 'jedem', 'jeden', 'jedenfalls', 'jeder', 'jederlei', 'jedes', 'jedesmal', 'jedoch', 'jeglichem', 'jeglichen', 'jeglicher', 'jegliches', 'jemals', 'jemand', 'jemandem', 'jemanden', 'jemandes', 'jene', 'jenem', 'jenen', 'jener', 'jenes', 'jenseitig', 'jenseitigem', 'jenseitiger', 'jenseits', 'jetzt', 'jung', 'junge', 'jungem', 'jungen', 'junger', 'junges', 'kaeumlich', 'kam', 'kann', 'kannst', 'kaum', 'käumlich', 'kein', 'keine', 'keinem', 'keinen', 'keiner', 'keinerlei', 'keines', 'keineswegs', 'klar', 'klare', 'klaren', 'klares', 'klein', 'kleinen', 'kleiner', 'kleines', 'koennen', 'koennt', 'koennte', 'koennten', 'koenntest', 'koenntet', 'komme', 'kommen', 'kommt', 'konkret', 'konkrete', 'konkreten', 'konkreter', 'konkretes', 'könn', 'können', 'könnt', 'konnte', 'könnte', 'konnten', 'könnten', 'konntest', 'könntest', 'konntet', 'könntet', 'kuenftig', 'kuerzlich', 'kuerzlichst', 'künftig', 'kürzlich', 'kürzlichst', 'laengst', 'lag', 'lagen', 'langsam', 'längst', 'längstens', 'lassen', 'laut', 'lediglich', 'leer', 'legen', 'legte', 'legten', 'leicht', 'leider', 'lesen', 'letze', 'letzte', 'letzten', 'letztendlich', 'letztens', 'letztere', 'letzterem', 'letzterer', 'letzteres', 'letztes', 'letztlich', 'lichten', 'liegt', 'liest', 'links', 'mache', 'machen', 'machst', 'macht', 'machte', 'machten', 'mag', 'magst', 'mal', 'man', 'manch', 'manche', 'manchem', 'manchen', 'mancher', 'mancherlei', 'mancherorts', 'manches', 'manchmal', 'mann', 'margin', 'massgebend', 'massgebende', 'massgebendem', 'massgebenden', 'massgebender', 'massgebendes', 'massgeblich', 'massgebliche', 'massgeblichem', 'massgeblichen', 'massgeblicher', 'mehr', 'mehrere', 'mehrerer', 'mehrfach', 'mehrmalig', 'mehrmaligem', 'mehrmaliger', 'mehrmaliges', 'mein', 'meine', 'meinem', 'meinen', 'meiner', 'meines', 'meinetwegen', 'meins', 'meist', 'meiste', 'meisten', 'meistens', 'meistenteils', 'meta', 'mich', 'mindestens', 'mir', 'mit', 'miteinander', 'mitgleich', 'mithin', 'mitnichten', 'mittels', 'mittelst', 'mitten', 'mittig', 'mitunter', 'mitwohl', 'mochte', 'möchte', 'möchten', 'möchtest', 'moechte', 'moeglich', 'moeglichst', 'moeglichste', 'moeglichstem', 'moeglichsten', 'moeglichster', 'mögen', 'möglich', 'mögliche', 'möglichen', 'möglicher', 'möglicherweise', 'möglichst', 'möglichste', 'möglichstem', 'möglichsten', 'möglichster', 'morgen', 'morgige', 'muessen', 'muesst', 'muesste', 'muss', 'müssen', 'musst', 'müßt', 'musste', 'müsste', 'mussten', 'müssten', 'nach', 'nachdem', 'nacher', 'nachher', 'nachhinein', 'nächste', 'nacht', 'naechste', 'naemlich', 'nahm', 'nämlich', 'naturgemaess', 'naturgemäss', 'natürlich', 'ncht', 'neben', 'nebenan', 'nehmen', 'nein', 'neu', 'neue', 'neuem', 'neuen', 'neuer', 'neuerdings', 'neuerlich', 'neuerliche', 'neuerlichem', 'neuerlicher', 'neuerliches', 'neues', 'neulich', 'neun', 'nicht', 'nichts', 'nichtsdestotrotz', 'nichtsdestoweniger', 'nie', 'niemals', 'niemand', 'niemandem', 'niemanden', 'niemandes', 'nimm', 'nimmer', 'nimmt', 'nirgends', 'nirgendwo', 'noch', 'noetigenfalls', 'nötigenfalls', 'nun', 'nur', 'nutzen', 'nutzt', 'nützt', 'nutzung', 'ob', 'oben', 'ober', 'oberen', 'oberer', 'oberhalb', 'oberste', 'obersten', 'oberster', 'obgleich', 'obs', 'obschon', 'obwohl', 'oder', 'oefter', 'oefters', 'off', 'offenkundig', 'offenkundige', 'offenkundigem', 'offenkundigen', 'offenkundiger', 'offenkundiges', 'offensichtlich', 'offensichtliche', 'offensichtlichem', 'offensichtlichen', 'offensichtlicher', 'offensichtliches', 'oft', 'öfter', 'öfters', 'oftmals', 'ohne', 'ohnedies', 'online', 'paar', 'partout', 'per', 'persoenlich', 'persoenliche', 'persoenlichem', 'persoenlicher', 'persoenliches', 'persönlich', 'persönliche', 'persönlicher', 'persönliches', 'pfui', 'ploetzlich', 'ploetzliche', 'ploetzlichem', 'ploetzlicher', 'ploetzliches', 'plötzlich', 'plötzliche', 'plötzlichem', 'plötzlicher', 'plötzliches', 'pro', 'quasi', 'reagiere', 'reagieren', 'reagiert', 'reagierte', 'recht', 'rechts', 'regelmäßig', 'reichlich', 'reichliche', 'reichlichem', 'reichlichen', 'reichlicher', 'restlos', 'restlose', 'restlosem', 'restlosen', 'restloser', 'restloses', 'richtiggehend', 'richtiggehende', 'richtiggehendem', 'richtiggehenden', 'richtiggehender', 'richtiggehendes', 'rief', 'rund', 'rundheraus', 'rundum', 'runter', 'sage', 'sagen', 'sagt', 'sagte', 'sagten', 'sagtest', 'sagtet', 'samt', 'sämtliche', 'sang', 'sangen', 'sattsam', 'schätzen', 'schätzt', 'schätzte', 'schätzten', 'scheinbar', 'scheinen', 'schlechter', 'schlicht', 'schlichtweg', 'schließlich', 'schlussendlich', 'schnell', 'schon', 'schreibe', 'schreiben', 'schreibens', 'schreiber', 'schwerlich', 'schwerliche', 'schwerlichem', 'schwerlichen', 'schwerlicher', 'schwerliches', 'schwierig', 'sechs', 'sect', 'sehe', 'sehen', 'sehr', 'sehrwohl', 'seht', 'sei', 'seid', 'seien', 'seiest', 'seiet', 'sein', 'seine', 'seinem', 'seinen', 'seiner', 'seines', 'seit', 'seitdem', 'seite', 'seiten', 'seither', 'selbe', 'selben', 'selber', 'selbst', 'selbstredend', 'selbstredende', 'selbstredendem', 'selbstredenden', 'selbstredender', 'selbstredendes', 'seltsamerweise', 'senke', 'senken', 'senkt', 'senkte', 'senkten', 'setzen', 'setzt', 'setzte', 'setzten', 'sich', 'sicher', 'sicherlich', 'sie', 'sieben', 'siebte', 'siehe', 'sieht', 'sind', 'singen', 'singt', 'so', 'sobald', 'sodaß', 'soeben', 'sofern', 'sofort', 'sog', 'sogar', 'sogleich', 'solange', 'solc', 'solc', 'hen', 'solch', 'solche', 'solchem', 'solchen', 'solcher', 'solches', 'soll', 'sollen', 'sollst', 'sollt', 'sollte', 'sollten', 'solltest', 'solltet', 'somit', 'sondern', 'sonst', 'sonstig', 'sonstige', 'sonstigem', 'sonstiger', 'sonstwo', 'sooft', 'soviel', 'soweit', 'sowie', 'sowieso', 'sowohl', 'später', 'spielen', 'startet', 'startete', 'starteten', 'statt', 'stattdessen', 'stehend', 'stand', 'standen', 'gestanden', 'stande', 'steht', 'steige', 'steigen', 'steigt', 'stellenweise', 'stellenweisem', 'stellenweisen', 'stets', 'stieg', 'stiegen', 'such', 'suchen', 'tages', 'tat', 'tät', 'tatsächlich', 'tatsächlichen', 'tatsächlicher', 'tatsächliches', 'tatsaechlich', 'tatsaechlichen', 'tatsaechlicher', 'tatsaechliches', 'tausend', 'teile', 'teilen', 'teilte', 'teilten', 'tief', 'titel', 'toll', 'total', 'trage', 'tragen', 'trägt', 'trotzdem', 'trug', 'tun', 'tust', 'tut', 'txt', 'übel', 'über', 'überall', 'überallhin', 'überaus', 'überdies', 'überhaupt', 'überll', 'übermorgen', 'üblicherweise', 'übrig', 'übrigens', 'ueber', 'ueberall', 'ueberallhin', 'ueberaus', 'ueberdies', 'ueberhaupt', 'uebermorgen', 'ueblicherweise', 'uebrig', 'uebrigens', 'um', 'ums', 'umso', 'umstaendehalber', 'umständehalber', 'unbedingt', 'unbedingte', 'unbedingter', 'unbedingtes', 'und', 'unerhoert', 'unerhoerte', 'unerhoertem', 'unerhoerten', 'unerhoerter', 'unerhoertes', 'unerhört', 'unerhörte', 'unerhörtem', 'unerhörten', 'unerhörter', 'unerhörtes', 'ungefähr', 'ungemein', 'ungewoehnlich', 'ungewoehnliche', 'ungewoehnlichem', 'ungewoehnlichen', 'ungewoehnlicher', 'ungewoehnliches', 'ungewöhnlich', 'ungewöhnliche', 'ungewöhnlichem', 'ungewöhnlichen', 'ungewöhnlicher', 'ungewöhnliches', 'ungleich', 'ungleiche', 'ungleichem', 'ungleichen', 'ungleicher', 'ungleiches', 'unmassgeblich', 'unmassgebliche', 'unmassgeblichem', 'unmassgeblichen', 'unmassgeblicher', 'unmassgebliches', 'unmoeglich', 'unmoegliche', 'unmoeglichem', 'unmoeglichen', 'unmoeglicher', 'unmoegliches', 'unmöglich', 'unmögliche', 'unmöglichen', 'unmöglicher', 'unnötig', 'uns', 'unsaeglich', 'unsaegliche', 'unsaeglichem', 'unsaeglichen', 'unsaeglicher', 'unsaegliches', 'unsagbar', 'unsagbare', 'unsagbarem', 'unsagbaren', 'unsagbarer', 'unsagbares', 'unsäglich', 'unsägliche', 'unsäglichem', 'unsäglichen', 'unsäglicher', 'unsägliches', 'unse', 'unsem', 'unsen', 'unser', 'unser', 'unsere', 'unserem', 'unseren', 'unserer', 'unseres', 'unserm', 'unses', 'unsre', 'unsrem', 'unsren', 'unsrer', 'unsres', 'unstreitig', 'unstreitige', 'unstreitigem', 'unstreitigen', 'unstreitiger', 'unstreitiges', 'unten', 'unter', 'unterbrach', 'unterbrechen', 'untere', 'unterem', 'unteres', 'unterhalb', 'unterste', 'unterster', 'unterstes', 'unwichtig', 'unzweifelhaft', 'unzweifelhafte', 'unzweifelhaftem', 'unzweifelhaften', 'unzweifelhafter', 'unzweifelhaftes', 'usw', 'usw.', 'vergangen', 'vergangene', 'vergangener', 'vergangenes', 'vermag', 'vermögen', 'vermutlich', 'vermutliche', 'vermutlichem', 'vermutlichen', 'vermutlicher', 'vermutliches', 'veröffentlichen', 'veröffentlicher', 'veröffentlicht', 'veröffentlichte', 'veröffentlichten', 'veröffentlichtes', 'verrate', 'verraten', 'verriet', 'verrieten', 'version', 'versorge', 'versorgen', 'versorgt', 'versorgte', 'versorgten', 'versorgtes', 'viel', 'viele', 'vielen', 'vieler', 'vielerlei', 'vieles', 'vielleicht', 'vielmalig', 'vielmals', 'vier', 'voellig', 'voellige', 'voelligem', 'voelligen', 'voelliger', 'voelliges', 'voelligst', 'vollends', 'völlig', 'völlige', 'völligem', 'völligen', 'völliger', 'völliges', 'völligst', 'vollstaendig', 'vollstaendige', 'vollstaendigem', 'vollstaendigen', 'vollstaendiger', 'vollstaendiges', 'vollständig', 'vollständige', 'vollständigem', 'vollständigen', 'vollständiger', 'vollständiges', 'vom', 'von', 'vor', 'voran', 'vorbei', 'vorgestern', 'vorher', 'vorherig', 'vorherige', 'vorherigem', 'vorheriger', 'vorne', 'vorüber', 'vorueber', 'wachen', 'waehrend', 'waehrenddessen', 'waere', 'während', 'währenddessen', 'wann', 'war', 'wär', 'wäre', 'waren', 'wären', 'warst', 'wart', 'warum', 'was', 'weder', 'weg', 'wegen', 'weil', 'weiß', 'weit', 'weiter', 'weitere', 'weiterem', 'weiteren', 'weiterer', 'weiteres', 'weiterhin', 'weitestgehend', 'weitestgehende', 'weitestgehendem', 'weitestgehenden', 'weitestgehender', 'weitestgehendes', 'weitgehend', 'weitgehende', 'weitgehendem', 'weitgehenden', 'weitgehender', 'weitgehendes', 'welche', 'welchem', 'welchen', 'welcher', 'welches', 'wem', 'wen', 'wenig', 'wenige', 'weniger', 'wenigstens', 'wenn', 'wenngleich', 'wer', 'werde', 'werden', 'werdet', 'weshalb', 'wessen', 'weswegen', 'wichtig', 'wie', 'wieder', 'wiederum', 'wieso', 'wieviel', 'wieviele', 'wievieler', 'wiewohl', 'will', 'willst', 'wir', 'wird', 'wirklich', 'wirklichem', 'wirklicher', 'wirkliches', 'wirst', 'wo', 'wobei', 'wodurch', 'wofuer', 'wofür', 'wogegen', 'woher', 'wohin', 'wohingegen', 'wohl', 'wohlgemerkt', 'wohlweislich', 'wolle', 'wollen', 'wollt', 'wollte', 'wollten', 'wolltest', 'wolltet', 'womit', 'womoeglich', 'womoegliche', 'womoeglichem', 'womoeglichen', 'womoeglicher', 'womoegliches', 'womöglich', 'womögliche', 'womöglichem', 'womöglichen', 'womöglicher', 'womögliches', 'woran', 'woraufhin', 'woraus', 'worden', 'worin', 'wuerde', 'wuerden', 'wuerdest', 'wuerdet', 'wurde', 'würde', 'wurden', 'würden', 'wurdest', 'würdest', 'wurdet', 'würdet', 'www', 'x', 'zahlreich', 'zahlreichem', 'zahlreicher', 'zb', 'zb', 'zehn', 'zeitweise', 'zeitweisem', 'zeitweisen', 'zeitweiser', 'ziehen', 'zieht', 'ziemlich', 'ziemliche', 'ziemlichem', 'ziemlichen', 'ziemlicher', 'ziemliches', 'zirka', 'zog', 'zogen', 'zu', 'zudem', 'zuerst', 'zufolge', 'zugleich', 'zuletzt', 'zum', 'zumal', 'zumeist', 'zumindest', 'zunächst', 'zunaechst', 'zur', 'zurück', 'zurueck', 'zusammen', 'zusehends', 'zuviel', 'zuviele', 'zuvieler', 'zuweilen', 'zwanzig', 'zwar', 'zwei', 'zweifelsfrei', 'zweifelsfreie', 'zweifelsfreiem', 'zweifelsfreien', 'zweifelsfreier', 'zweifelsfreies', 'zwischen', 'zwölf', 'montag', 'dienstag', 'mittwoch', 'donnerstag', 'freitag', 'samstag', 'sonntag', 'sonnabend', 'januar', 'februar', 'märz', 'april', 'mai', 'juni', 'juli', 'august', 'september', 'oktober', 'november', 'dezember', '1', '2', '3', '4', '5', '6', '7', '8', '9', '10', '11', '12', '13', '14', '15', '16', '17', '18', '19', '20', '30', '100'], 'correlation': {}, 'settings': {'interviews': {'total': 3, 'txt_files_without_speaker': 3}, 'interviews_trained': {}, 'interviews_inferred': {}, 'topic_modeling': {'trained': 'False', 'inferred': 'False'}, 'preprocessing': {'preprocessed': 'True', 'stopwords_removed': 'True', 'lemma': 'False', 'chunked': 'True', 'chunk_setting': 20, 'pos_filter': False, 'allowed_postags': [], 'cleaned_length': {'max_length': 22, 'min_length': 1, 'ave_length': 6.555555555555555}, 'stopwords_by_list': True, 'stop_words_by_particle': False, 'stop_words_by_threshold': 0.5, 'stop_words_by_spacy': False, 'lemmatization': False, 'pos_filter_setting': False}}}\n",
      "{'total': 3, 'txt_files_without_speaker': 3}\n",
      "{}\n",
      "{}\n",
      "{'trained': 'False', 'inferred': 'False'}\n",
      "{'preprocessed': 'True', 'stopwords_removed': 'True', 'lemma': 'False', 'chunked': 'True', 'chunk_setting': 20, 'pos_filter': False, 'allowed_postags': [], 'cleaned_length': {'max_length': 22, 'min_length': 1, 'ave_length': 6.555555555555555}, 'stopwords_by_list': True, 'stop_words_by_particle': False, 'stop_words_by_threshold': 0.5, 'stop_words_by_spacy': False, 'lemmatization': False, 'pos_filter_setting': False}\n",
      "No Topic Model trained\n",
      "No Topic Model trained\n"
     ]
    }
   ],
   "source": [
    "\"\"\"\n",
    "OHTM-Pipeline:\n",
    "\n",
    "With this board you can select every option for your topic model.\n",
    "You can set the different options on and off via \"True\" and \"False\".\n",
    "\n",
    "First set the required paths.\n",
    "    - the first \"mallet_path\" to your mallet directory.\n",
    "     (see https://programminghistorian.org/en/lessons/topic-modeling-and-mallet)\n",
    "    - the second one to your working folder. This folder is your working environment.\n",
    "      All models are saved there and can be loaded from this folder.\n",
    "    - your stopword file must be stored in this working folder.\n",
    "\"\"\"\n",
    "\n",
    "\"\"\"\n",
    "This demo is used to test, if the code runs proper and is linked to the demo folder and its demo files.\n",
    "- You can test importing the text files and preprocessing them. \n",
    "- You can print the prepared ohmt_files or create the graphs for this file or use the search functions\n",
    "- Topic modeling is not able, because you need to install mallet first.\n",
    "\"\"\"\n",
    "\n",
    "from ohtm.pipeline import ohtm_pipeline_function\n",
    "import os\n",
    "\n",
    "''' Path Settings: '''\n",
    "# Path to your mallet folder.\n",
    "os.environ['MALLET_HOME'] = r'C:\\\\mallet-2.0.8' # does not work in the demo_main, just leave it, as it is\n",
    "mallet_path: str = r'C:\\mallet-2.0.8\\bin\\mallet' # does not work in the demo_main, just leave it, as it is\n",
    "\n",
    "\n",
    "# Path to your output_folder.\n",
    "output_folder: str = \"/work/JDH_python/ohtm_pipeline/Demo/\"\n",
    "\n",
    "# Set the path for your stop_word list.\n",
    "stopword_file_name = \"german_stopwords_standard.txt\"\n",
    "\n",
    "# Set the path to your sources. This must be the folder, where your documents are stored in another folder.\n",
    "source_path: str =\"/work/JDH_python/ohtm_pipeline/Demo/\"\n",
    "\n",
    "source_folder = [\"archive_1\", \"archive_2\", \"txt_files\"]\n",
    "\n",
    "\"\"\" Topic Modeling Settings: \"\"\"\n",
    "\n",
    "load_ohtm_file = True\n",
    "load_file_name = \"demo_ohtm_file_2\"\n",
    "\n",
    "create_ohtm_file = False\n",
    "save_ohtm_file = False\n",
    "save_name = \"demo_ohtm_file_trained\"\n",
    "\n",
    "# You need to set a save_name and set the option save_json to True to save the model\n",
    "save_model = False # does not work in the demo_main, just leave it, as it is\n",
    "\n",
    "use_preprocessing = False\n",
    "\n",
    "# If you don't want to chunk your documents, set use_chunking to True and chunk_setting to 0\n",
    "use_chunking = False\n",
    "chunk_setting = 20\n",
    "\n",
    "use_topic_modeling = False # does not work in the demo_main, just leave it, as it is\n",
    "topics = 10 # does not work in the demo_main, just leave it, as it is\n",
    "\n",
    "save_top_words = True\n",
    "number_of_words = 20\n",
    "\n",
    "print_ohtm_file = True\n",
    "print_ohtm_file_settings = True\n",
    "show_bar_graph_corpus = True\n",
    "show_heatmap_corpus = True\n",
    "\n",
    "interview_id = \"....\"\n",
    "chunk_number = 0\n",
    "show_heatmap_interview = False\n",
    "print_interview_chunk = False\n",
    "search_for_topics_in_chunks = False\n",
    "topic_search = 0\n",
    "chunk_weight = 0\n",
    "search_for_topics_in_interview = False\n",
    "\n",
    "''' advanced options: '''\n",
    "\n",
    "# topic_modeling\n",
    "optimize_interval_mallet = 50\n",
    "iterations_mallet = 500\n",
    "alpha = 5\n",
    "random_seed = 80\n",
    "\n",
    "# ohtm_file creation\n",
    "speaker_txt = True\n",
    "folder_as_archive = False\n",
    "\n",
    "# preprocessing\n",
    "# Select just one of those two:\n",
    "stopword_removal_by_stop_list = True\n",
    "\n",
    "# To use this options, you have to select a valid spacy model:\n",
    "stopword_removal_by_spacy = False # does not work in the demo_main, just leave it, as it is\n",
    "use_lemmatization = False # does not work in the demo_main, just leave it, as it is\n",
    "lemmatization_model_spacy = \"de_core_news_lg\" # does not work in the demo_main, just leave it, as it is\n",
    "use_pos_filter = False # does not work in the demo_main, just leave it, as it is\n",
    "\n",
    "# possible settings: 'NOUN', 'PROPN', 'VERB', 'ADJ', 'ADV', 'PRON', 'ADP', 'DET', 'AUX', 'NUM', 'SCONJ', 'CCONJ', 'X'\n",
    "allowed_postags_settings_lemmatization = ['NOUN', 'PROPN', 'VERB', 'ADJ', 'NUM', 'ADV']\n",
    "\n",
    "''' Inferring new documents with an trained topic model'''\n",
    "\n",
    "infer_new_documents = False\n",
    "trained_ohtm_file = \"....\"  # load the trained json and the model to train that json\n",
    "save_separate_ohtm_file = False  # save the inferred documents as a new json\n",
    "separate_ohtm_file_name = \"....\"\n",
    "\n",
    "\n",
    "if __name__ == \"__main__\":\n",
    "    ohtm_pipeline_function(\n",
    "        output_folder=output_folder,\n",
    "        source_folder=source_folder,\n",
    "        source_path=source_path,\n",
    "        stopword_file_name=stopword_file_name,\n",
    "        allowed_postags_settings=allowed_postags_settings_lemmatization,\n",
    "        save_name=save_name,\n",
    "        load_file_name=load_file_name,\n",
    "        mallet_path= mallet_path,\n",
    "        interview_id=interview_id,\n",
    "        chunk_setting=chunk_setting,\n",
    "        topics=topics,\n",
    "        number_of_words=number_of_words,\n",
    "        chunk_number=chunk_number,\n",
    "        topic_search=topic_search,\n",
    "        chunk_weight=chunk_weight,\n",
    "        optimize_interval_mallet=optimize_interval_mallet,\n",
    "        iterations_mallet=iterations_mallet,\n",
    "        alpha=alpha,\n",
    "        random_seed=random_seed,\n",
    "        save_ohtm_file=save_ohtm_file,\n",
    "        create_ohtm_file=create_ohtm_file,\n",
    "        load_ohtm_file=load_ohtm_file,\n",
    "        use_preprocessing=use_preprocessing,\n",
    "        use_chunking=use_chunking,\n",
    "        use_topic_modeling=use_topic_modeling,\n",
    "        save_top_words=save_top_words,\n",
    "        print_ohtm_file=print_ohtm_file,\n",
    "        show_bar_graph_corpus=show_bar_graph_corpus,\n",
    "        show_heatmap_corpus=show_heatmap_corpus,\n",
    "        show_heatmap_interview=show_heatmap_interview,\n",
    "        print_interview_chunk=print_interview_chunk,\n",
    "        search_for_topics_in_chunks=search_for_topics_in_chunks,\n",
    "        search_for_topics_in_interview=search_for_topics_in_interview,\n",
    "        by_list=stopword_removal_by_stop_list,\n",
    "        pos_filter_setting=use_pos_filter,\n",
    "        lemma=use_lemmatization,\n",
    "        save_model=save_model,\n",
    "        infer_new_documents=infer_new_documents,\n",
    "        trained_ohtm_file=trained_ohtm_file,\n",
    "        save_separate_ohtm_file=save_separate_ohtm_file,\n",
    "        separate_ohtm_file_name=separate_ohtm_file_name,\n",
    "        speaker_txt=speaker_txt,\n",
    "        folder_as_archive=folder_as_archive,\n",
    "        print_ohtm_file_settings=print_ohtm_file_settings,\n",
    "        spacy_model_name=lemmatization_model_spacy,\n",
    "        stopword_removal_by_spacy=stopword_removal_by_spacy\n",
    "    )\n"
   ]
  },
  {
   "cell_type": "code",
   "execution_count": 11,
   "metadata": {
    "editable": true,
    "slideshow": {
     "slide_type": ""
    },
    "tags": []
   },
   "outputs": [],
   "source": []
  },
  {
   "cell_type": "code",
   "execution_count": null,
   "metadata": {
    "editable": true,
    "slideshow": {
     "slide_type": ""
    },
    "tags": []
   },
   "outputs": [],
   "source": []
  }
 ],
 "metadata": {
  "celltoolbar": "Tags",
  "citation-manager": {
   "items": {}
  },
  "kernelspec": {
   "display_name": "Python 3 (ipykernel)",
   "language": "python",
   "name": "python3"
  },
  "language_info": {
   "codemirror_mode": {
    "name": "ipython",
    "version": 3
   },
   "file_extension": ".py",
   "mimetype": "text/x-python",
   "name": "python",
   "nbconvert_exporter": "python",
   "pygments_lexer": "ipython3",
   "version": "3.11.9"
  },
  "toc": {
   "base_numbering": 1,
   "nav_menu": {},
   "number_sections": true,
   "sideBar": true,
   "skip_h1_title": false,
   "title_cell": "Table of Contents",
   "title_sidebar": "Contents",
   "toc_cell": false,
   "toc_position": {},
   "toc_section_display": true,
   "toc_window_display": false
  }
 },
 "nbformat": 4,
 "nbformat_minor": 4
}
